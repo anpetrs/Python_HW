{
  "cells": [
    {
      "cell_type": "markdown",
      "metadata": {
        "id": "2710a4f4"
      },
      "source": [
        "# Содержание:\n",
        "  - ## [Блок 1](#Блок_1)\n",
        "      - ### [Теория](#Теория_1)\n",
        "      - ### [Разобранные примеры](#Примеры_1)\n",
        "      - ### [Задачи](#Задачи_1)\n",
        "\n",
        "  - ## [Блок 2](#Блок_2)\n",
        "      - ### [Теория](#Теория_2)\n",
        "      - ### [Разобранные примеры](#Примеры_2)\n",
        "      - ### [Задачи](#Задачи_2)"
      ],
      "id": "2710a4f4"
    },
    {
      "cell_type": "markdown",
      "metadata": {
        "id": "5898bec6"
      },
      "source": [
        "# Блок_1"
      ],
      "id": "5898bec6"
    },
    {
      "cell_type": "markdown",
      "metadata": {
        "id": "9f7828f5"
      },
      "source": [
        "## Теория_1"
      ],
      "id": "9f7828f5"
    },
    {
      "cell_type": "code",
      "execution_count": null,
      "metadata": {
        "id": "df3097a5",
        "outputId": "70133461-ad72-4b76-d783-221cfdbea124"
      },
      "outputs": [
        {
          "name": "stdout",
          "output_type": "stream",
          "text": [
            "Hello, Ben!\n"
          ]
        }
      ],
      "source": [
        "def greet(name):\n",
        "    print(\"Hello, \" + name + \"!\")\n",
        "\n",
        "user_name = \"Ben\"\n",
        "greet(user_name)"
      ],
      "id": "df3097a5"
    },
    {
      "cell_type": "code",
      "execution_count": null,
      "metadata": {
        "id": "d2154f32",
        "outputId": "4a0d8ec5-ab0e-4591-9234-78e3c1153c46"
      },
      "outputs": [
        {
          "data": {
            "text/plain": [
              "3"
            ]
          },
          "execution_count": 3,
          "metadata": {},
          "output_type": "execute_result"
        }
      ],
      "source": [
        "def count_divide(a: int, b: int) -> int:\n",
        "    if b == 0:\n",
        "        return\n",
        "    return a // b\n",
        "\n",
        "res = count_divide(b=3, a=10)\n",
        "res"
      ],
      "id": "d2154f32"
    },
    {
      "cell_type": "code",
      "execution_count": null,
      "metadata": {
        "id": "04f332fd",
        "outputId": "d80deeaf-73f9-4607-8911-3c717826fa87"
      },
      "outputs": [
        {
          "data": {
            "text/plain": [
              "3"
            ]
          },
          "execution_count": 4,
          "metadata": {},
          "output_type": "execute_result"
        }
      ],
      "source": [
        "def increment(number, by=1):\n",
        "    return number + by\n",
        "\n",
        "increment(2)"
      ],
      "id": "04f332fd"
    },
    {
      "cell_type": "markdown",
      "metadata": {
        "id": "da126b5e"
      },
      "source": [
        "## Примеры_1"
      ],
      "id": "da126b5e"
    },
    {
      "cell_type": "markdown",
      "metadata": {
        "id": "6680be1d"
      },
      "source": [
        "### Пример 1:\n",
        "Напишите функцию is_prime(n), которая принимает на вход целое число n и возвращает True, если число n является простым, и False, если число n не является простым."
      ],
      "id": "6680be1d"
    },
    {
      "cell_type": "code",
      "execution_count": null,
      "metadata": {
        "id": "8064e8b0"
      },
      "outputs": [],
      "source": [
        "def is_prime(n: int) -> bool:\n",
        "    if n < 1:\n",
        "        return False\n",
        "    for i in range(2, n // 2 + 1):\n",
        "        if n % i == 0:\n",
        "            return False\n",
        "    return True"
      ],
      "id": "8064e8b0"
    },
    {
      "cell_type": "code",
      "execution_count": null,
      "metadata": {
        "id": "d977c6ff",
        "outputId": "211fb863-9296-4c66-fbbc-c9335d378c09"
      },
      "outputs": [
        {
          "name": "stdout",
          "output_type": "stream",
          "text": [
            "Введите целое число: 8\n",
            "8 не является простым числом\n"
          ]
        }
      ],
      "source": [
        "n = int(input(\"Введите целое число: \"))\n",
        "\n",
        "if is_prime(n):\n",
        "    print(n, \"является простым числом\")\n",
        "else:\n",
        "    print(n, \"не является простым числом\")"
      ],
      "id": "d977c6ff"
    },
    {
      "cell_type": "markdown",
      "metadata": {
        "id": "d0c178d4"
      },
      "source": [
        "### Пример 2:\n",
        "\n",
        "Напишите программу, принимающую на вход массив и число - множитель, на который нужно умножить все элементы массива."
      ],
      "id": "d0c178d4"
    },
    {
      "cell_type": "code",
      "execution_count": null,
      "metadata": {
        "id": "4a4d3e19"
      },
      "outputs": [],
      "source": [
        "def multiply_list(lst: list, multiplier: float) -> list:\n",
        "    result = []\n",
        "    for num in lst:\n",
        "        result.append(num * multiplier)\n",
        "    return result"
      ],
      "id": "4a4d3e19"
    },
    {
      "cell_type": "code",
      "execution_count": null,
      "metadata": {
        "id": "64ea71d8"
      },
      "outputs": [],
      "source": [
        "def multiply_list(lst: list, multiplier: float):\n",
        "    for i in range(len(lst)):\n",
        "        lst[i] *= multiplier"
      ],
      "id": "64ea71d8"
    },
    {
      "cell_type": "code",
      "execution_count": null,
      "metadata": {
        "id": "3633119c"
      },
      "outputs": [],
      "source": [
        "a = list(range(4))\n",
        "multiply_list(a, 2)"
      ],
      "id": "3633119c"
    },
    {
      "cell_type": "code",
      "execution_count": null,
      "metadata": {
        "id": "528d2dfd",
        "outputId": "41c4b10e-e664-4c4f-d9cb-0029292d5524"
      },
      "outputs": [
        {
          "data": {
            "text/plain": [
              "[0, 2, 4, 6]"
            ]
          },
          "execution_count": 11,
          "metadata": {},
          "output_type": "execute_result"
        }
      ],
      "source": [
        "a"
      ],
      "id": "528d2dfd"
    },
    {
      "cell_type": "markdown",
      "metadata": {
        "id": "48ad086b"
      },
      "source": [
        "## Задачи"
      ],
      "id": "48ad086b"
    },
    {
      "cell_type": "markdown",
      "metadata": {
        "id": "9667ef69"
      },
      "source": [
        "### Задачка 1:\n",
        "\n",
        " Напишите функцию `two_min_elements`, которая принимает список целых чисел в качестве аргумента и возвращает кортеж с двумя минимальными элементами.\n"
      ],
      "id": "9667ef69"
    },
    {
      "cell_type": "code",
      "execution_count": null,
      "metadata": {
        "id": "41932c34"
      },
      "outputs": [],
      "source": [
        "def two_min_elements(arr: list) -> tuple:\n",
        "    if len(arr) < 2:\n",
        "      return None\n",
        "    sorted_lst = sorted(arr)\n",
        "    return tuple(sorted_lst[:2])"
      ],
      "id": "41932c34"
    },
    {
      "cell_type": "code",
      "execution_count": null,
      "metadata": {
        "colab": {
          "base_uri": "https://localhost:8080/"
        },
        "id": "1d590dab",
        "outputId": "ec3f4639-8e0c-4f76-9863-2a61e63b0631"
      },
      "outputs": [
        {
          "data": {
            "text/plain": [
              "(-323, -2)"
            ]
          },
          "execution_count": 13,
          "metadata": {},
          "output_type": "execute_result"
        }
      ],
      "source": [
        "two_min_elements([23, -1, 2232, -323, 0, -2])"
      ],
      "id": "1d590dab"
    },
    {
      "cell_type": "markdown",
      "metadata": {
        "id": "494498e7"
      },
      "source": [
        "### Задачка 2"
      ],
      "id": "494498e7"
    },
    {
      "cell_type": "markdown",
      "metadata": {
        "id": "95754060"
      },
      "source": [
        "Напишите функцию `delete_negatives()`, которая принимает список чисел numbers и возвращает список только положительных чисел из numbers.\n"
      ],
      "id": "95754060"
    },
    {
      "cell_type": "code",
      "execution_count": null,
      "metadata": {
        "id": "8656a66b"
      },
      "outputs": [],
      "source": [
        "def delete_negatives(numbers: list) -> list:\n",
        "  result = []\n",
        "  for i in numbers:\n",
        "    if i >= 0:\n",
        "      result.append(i)\n",
        "  return result"
      ],
      "id": "8656a66b"
    },
    {
      "cell_type": "code",
      "execution_count": null,
      "metadata": {
        "colab": {
          "base_uri": "https://localhost:8080/"
        },
        "id": "89054541",
        "outputId": "ab67ec92-69cb-4c2c-f23c-b65916c373fe"
      },
      "outputs": [
        {
          "data": {
            "text/plain": [
              "[23, 2232, 0]"
            ]
          },
          "execution_count": 33,
          "metadata": {},
          "output_type": "execute_result"
        }
      ],
      "source": [
        "delete_negatives([23, -1, 2232, -323, 0, -2])"
      ],
      "id": "89054541"
    },
    {
      "cell_type": "markdown",
      "metadata": {
        "id": "dc54cf26"
      },
      "source": [
        "### Задачка 3"
      ],
      "id": "dc54cf26"
    },
    {
      "cell_type": "markdown",
      "metadata": {
        "id": "dbcd20ad"
      },
      "source": [
        "Напишите функцию `compute_net_salary(salary, tax_rate)`, которая принимает на вход число - сумму заработной платы до вычета налога и возвращает сумму после вычета налога. Сделайте параметр tax_rate\n",
        "опциональным, указав ставку в 13% значением по умолчанию."
      ],
      "id": "dbcd20ad"
    },
    {
      "cell_type": "code",
      "execution_count": null,
      "metadata": {
        "id": "2af89051"
      },
      "outputs": [],
      "source": [
        "def compute_net_salary(salary, tax_rate = 0.13):\n",
        "  result = salary - (salary * tax_rate)\n",
        "  return result"
      ],
      "id": "2af89051"
    },
    {
      "cell_type": "code",
      "execution_count": null,
      "metadata": {
        "colab": {
          "base_uri": "https://localhost:8080/"
        },
        "id": "K-JOXvGRJNXI",
        "outputId": "1ca12966-2dfd-4aa0-cf36-8fee1073cc02"
      },
      "outputs": [
        {
          "data": {
            "text/plain": [
              "4350.0"
            ]
          },
          "execution_count": 37,
          "metadata": {},
          "output_type": "execute_result"
        }
      ],
      "source": [
        "compute_net_salary(5000)"
      ],
      "id": "K-JOXvGRJNXI"
    },
    {
      "cell_type": "markdown",
      "metadata": {
        "id": "c76b7aae"
      },
      "source": [
        "### Задача 4\n",
        "\n",
        "Напишите функцию `digit_product`, принимающую на вход число и возвращающую произведение всех цифр этого числа\n",
        "Пример:\n",
        "```\n",
        "number = 325\n",
        "\n",
        "res = 30\n",
        "```"
      ],
      "id": "c76b7aae"
    },
    {
      "cell_type": "code",
      "execution_count": null,
      "metadata": {
        "id": "6027548a"
      },
      "outputs": [],
      "source": [
        "def digit_product(number: int) -> int:\n",
        "  num = [int(i) for i in str(number)]\n",
        "  res = 1\n",
        "  for i in num:\n",
        "    res *= i\n",
        "  return res"
      ],
      "id": "6027548a"
    },
    {
      "cell_type": "code",
      "execution_count": null,
      "metadata": {
        "colab": {
          "base_uri": "https://localhost:8080/"
        },
        "id": "3f8b271c",
        "outputId": "d888e9e3-310a-4c45-ae46-b9405bcf6702"
      },
      "outputs": [
        {
          "data": {
            "text/plain": [
              "30"
            ]
          },
          "execution_count": 58,
          "metadata": {},
          "output_type": "execute_result"
        }
      ],
      "source": [
        "digit_product(325)"
      ],
      "id": "3f8b271c"
    },
    {
      "cell_type": "markdown",
      "metadata": {
        "id": "2a23db00"
      },
      "source": [
        "### Задачка 5\n",
        "\n",
        "Напишите функцию `decimal_to_binary()`, которая принимает на вход число в десятичной системе счисления и переводит в двоичную. Подробнее как можно почитать [здесь](https://ru.wikihow.com/%D0%BF%D0%B5%D1%80%D0%B5%D0%B2%D0%BE%D0%B4%D0%B8%D1%82%D1%8C-%D0%B8%D0%B7-%D0%B4%D0%B5%D1%81%D1%8F%D1%82%D0%B8%D1%87%D0%BD%D0%BE%D0%B9-%D1%81%D0%B8%D1%81%D1%82%D0%B5%D0%BC%D1%8B-%D1%81%D1%87%D0%B8%D1%81%D0%BB%D0%B5%D0%BD%D0%B8%D1%8F-%D0%B2-%D0%B4%D0%B2%D0%BE%D0%B8%D1%87%D0%BD%D1%83%D1%8E).\n"
      ],
      "id": "2a23db00"
    },
    {
      "cell_type": "code",
      "execution_count": null,
      "metadata": {
        "id": "24089c51"
      },
      "outputs": [],
      "source": [
        "def decimal_to_binary(decimal_number):\n",
        "  binary_number = ''\n",
        "  while decimal_number > 0:\n",
        "    binary_number = str(decimal_number % 2) + binary_number\n",
        "    decimal_number = decimal_number // 2\n",
        "  return binary_number"
      ],
      "id": "24089c51"
    },
    {
      "cell_type": "code",
      "execution_count": null,
      "metadata": {
        "colab": {
          "base_uri": "https://localhost:8080/",
          "height": 35
        },
        "id": "DNpqbtQfOxrq",
        "outputId": "91088d74-c161-46c9-a627-87775871cbde"
      },
      "outputs": [
        {
          "data": {
            "application/vnd.google.colaboratory.intrinsic+json": {
              "type": "string"
            },
            "text/plain": [
              "'10111'"
            ]
          },
          "execution_count": 62,
          "metadata": {},
          "output_type": "execute_result"
        }
      ],
      "source": [
        "decimal_to_binary(23)"
      ],
      "id": "DNpqbtQfOxrq"
    },
    {
      "cell_type": "markdown",
      "metadata": {
        "id": "5376eee8"
      },
      "source": [
        "### Задачка 6\n",
        "\n",
        "Наишите функцию, возвращающую наибольший делитель двух неотрицательных числел.\n",
        "$a$, $b$ -- неотрицательные числа. Наибольший общий делитель -- наибольшее число, которое является делителем и $a$, и $b$.\n",
        "\n",
        "Существует [алгоритм Евклида](https://ru.wikipedia.org/wiki/%D0%90%D0%BB%D0%B3%D0%BE%D1%80%D0%B8%D1%82%D0%BC_%D0%95%D0%B2%D0%BA%D0%BB%D0%B8%D0%B4%D0%B0), который кратко можно описать так:\n",
        "\n",
        "`gcd(a, b) = a if b = 0`\n",
        "\n",
        "`gcd(a, b) = gcd(b, a mod b) иначе`,\n",
        "где `a mod b` - остаток от деления `a` на `b`.\n",
        "\n",
        "Задание со звездочкой (за доп балл) - напишите рекурсивное решение."
      ],
      "id": "5376eee8"
    },
    {
      "cell_type": "code",
      "execution_count": null,
      "metadata": {
        "id": "1ca66152"
      },
      "outputs": [],
      "source": [
        "def gcd(a: int, b: int) -> int:\n",
        "  while b != 0:\n",
        "    c = a % b\n",
        "    a = b\n",
        "    b = c\n",
        "  return a"
      ],
      "id": "1ca66152"
    },
    {
      "cell_type": "code",
      "execution_count": null,
      "metadata": {
        "id": "f13e4f0b"
      },
      "outputs": [],
      "source": [
        "def gcd(a: int, b: int) -> int:\n",
        "    if b == 0:\n",
        "        return a\n",
        "    else:\n",
        "        return gcd(b, a % b)"
      ],
      "id": "f13e4f0b"
    },
    {
      "cell_type": "code",
      "execution_count": null,
      "metadata": {
        "colab": {
          "base_uri": "https://localhost:8080/"
        },
        "id": "55f0a8e2",
        "outputId": "792cba77-0bca-4625-af6e-002d94998185"
      },
      "outputs": [
        {
          "data": {
            "text/plain": [
              "3"
            ]
          },
          "execution_count": 76,
          "metadata": {},
          "output_type": "execute_result"
        }
      ],
      "source": [
        "gcd(48, 159)"
      ],
      "id": "55f0a8e2"
    },
    {
      "cell_type": "markdown",
      "metadata": {
        "id": "3e2c9bd8"
      },
      "source": [
        "# Блок_2"
      ],
      "id": "3e2c9bd8"
    },
    {
      "cell_type": "markdown",
      "metadata": {
        "id": "eb3e6d4c"
      },
      "source": [
        "## Теория_2"
      ],
      "id": "eb3e6d4c"
    },
    {
      "cell_type": "markdown",
      "metadata": {
        "id": "573fb9bc"
      },
      "source": [
        "### zip\n",
        "Функция `zip` - используется для группировки элементов из различных последовательностей (например, списков, кортежей и т.д.) в пары или кортежи. Нужно для того, чтобы итерироваться по нескольким спискам параллельно. Например:"
      ],
      "id": "573fb9bc"
    },
    {
      "cell_type": "code",
      "execution_count": null,
      "metadata": {
        "id": "89a0ab14",
        "outputId": "689cec20-1a42-4174-e527-c3e57035b069"
      },
      "outputs": [
        {
          "name": "stdout",
          "output_type": "stream",
          "text": [
            "<class 'zip'>\n"
          ]
        }
      ],
      "source": [
        "names = [\"Анна\", \"Иван\", \"Мария\"]\n",
        "ages = [25, 30, 28]\n",
        "cities = [\"Москва\", \"Санкт-Петербург\", \"Киев\"]\n",
        "\n",
        "data = zip(names, ages, cities)\n",
        "print(type(data))"
      ],
      "id": "89a0ab14"
    },
    {
      "cell_type": "code",
      "execution_count": null,
      "metadata": {
        "id": "af16c012",
        "outputId": "491a0a2b-9f2a-4536-c882-845092957d0a"
      },
      "outputs": [
        {
          "name": "stdout",
          "output_type": "stream",
          "text": [
            "Анна возраст: 25 город: Москва\n",
            "Иван возраст: 30 город: Санкт-Петербург\n",
            "Мария возраст: 28 город: Киев\n"
          ]
        }
      ],
      "source": [
        "for name, age, city in data:\n",
        "    print(name, \"возраст:\", age, \"город:\", city)"
      ],
      "id": "af16c012"
    },
    {
      "cell_type": "markdown",
      "metadata": {
        "id": "c8d101bd"
      },
      "source": [
        "### map"
      ],
      "id": "c8d101bd"
    },
    {
      "cell_type": "markdown",
      "metadata": {
        "id": "ca8b64b8"
      },
      "source": [
        "Используется для применения заданной функции ко всем элементам последовательности. Она возвращает объект-итератор, который содержит результаты применения функции к каждому элементу последовательности."
      ],
      "id": "ca8b64b8"
    },
    {
      "cell_type": "code",
      "execution_count": null,
      "metadata": {
        "id": "0ae3381f",
        "outputId": "2b0881ed-3402-4b8c-c43e-36b3be27a6ed"
      },
      "outputs": [
        {
          "name": "stdout",
          "output_type": "stream",
          "text": [
            "[2, 4, 6, 8, 10]\n"
          ]
        }
      ],
      "source": [
        "def double(x):\n",
        "    return x * 2\n",
        "\n",
        "numbers = [1, 2, 3, 4, 5]\n",
        "double_numbers = map(lambda x: x * 2, numbers)\n",
        "\n",
        "# Преобразование результата map в список для отображения\n",
        "double_numbers = list(double_numbers)\n",
        "\n",
        "print(double_numbers)"
      ],
      "id": "0ae3381f"
    },
    {
      "cell_type": "markdown",
      "metadata": {
        "id": "6359f072"
      },
      "source": [
        "## Примеры_2"
      ],
      "id": "6359f072"
    },
    {
      "cell_type": "markdown",
      "metadata": {
        "id": "22709277"
      },
      "source": [
        "## Пример 1:\n",
        "Напишите функцию, которая принимает от пользователя два списка целых чисел одинаковой длины и выполняет следующие операции:\n",
        "\n",
        "- Находит сумму элементов с одинаковыми индексами в каждом списке.\n",
        "- Вычисляет среднее арифметическое всех элементов из двух списков.\n",
        "- Возвращает список, состоящий из элементов, которые встречаются в обоих списках.\n"
      ],
      "id": "22709277"
    },
    {
      "cell_type": "code",
      "execution_count": null,
      "metadata": {
        "id": "4eafd9fa"
      },
      "outputs": [],
      "source": [
        "def sum_lists(list1: list, list2: list) -> list:\n",
        "    return [a + b for a, b in zip(list1, list2)]\n",
        "\n",
        "def average_lists(list1: list, list2: list) -> float:\n",
        "    sum_list = sum_lists(list1, list2)\n",
        "    return sum(sum_lists(list1, list2)) / (len(sum_list) * 2)\n",
        "\n",
        "def common_elements(list1: list, list2: list) -> list:\n",
        "    return list(set(list1) & set(list2))"
      ],
      "id": "4eafd9fa"
    },
    {
      "cell_type": "code",
      "execution_count": null,
      "metadata": {
        "id": "1429ef74"
      },
      "outputs": [],
      "source": [
        "list1 = [1, 3, 4, 5, 6]\n",
        "list2 = [3, 6, 3, 1, 2]\n",
        "\n",
        "\n",
        "sum_list = sum_lists(list1, list2)\n",
        "avg = average_lists(list1, list2)\n",
        "common = common_elements(list1, list2)\n",
        "\n",
        "print(\"Сумма элементов с одинаковыми индексами:\", sum_list)\n",
        "print(\"Среднее арифметическое двух списков:\", avg)\n",
        "print(\"Список общих элементов в двух списках:\", common)"
      ],
      "id": "1429ef74"
    },
    {
      "cell_type": "markdown",
      "metadata": {
        "id": "a192b6cd"
      },
      "source": [
        "## Пример 2"
      ],
      "id": "a192b6cd"
    },
    {
      "cell_type": "markdown",
      "metadata": {
        "id": "f470b7ab"
      },
      "source": [
        "Напишите функцию, принимающую на вход два списка одинаковой длины и возвращающую список такой же длины, состоящий из максимумов элементов с одинаковым индексом.\n",
        "\n",
        "Пример:\n",
        "```\n",
        "a = [1, 2, 3, 4, 5]\n",
        "b = [2, 1, 3, 6, 1]\n",
        "\n",
        "res = [2, 2, 3, 6, 5]\n",
        "```"
      ],
      "id": "f470b7ab"
    },
    {
      "cell_type": "code",
      "execution_count": null,
      "metadata": {
        "id": "1f5c5093"
      },
      "outputs": [],
      "source": [
        "def maximum(list1, list2) -> list:\n",
        "    return list(map(lambda x, y: x if x > y else y, list1, list2))"
      ],
      "id": "1f5c5093"
    },
    {
      "cell_type": "markdown",
      "metadata": {
        "id": "74acdd19"
      },
      "source": [
        "## Пример 3"
      ],
      "id": "74acdd19"
    },
    {
      "cell_type": "markdown",
      "metadata": {
        "id": "70eb3adb"
      },
      "source": [
        "Напишите функцию, вычисляющую факториал положительного числа."
      ],
      "id": "70eb3adb"
    },
    {
      "cell_type": "code",
      "execution_count": null,
      "metadata": {
        "id": "10ccb4f3"
      },
      "outputs": [],
      "source": [
        "def factorial(n):\n",
        "    res = 1\n",
        "    for i in range(1, n + 1):\n",
        "        res *= i\n",
        "    return res"
      ],
      "id": "10ccb4f3"
    },
    {
      "cell_type": "markdown",
      "metadata": {
        "id": "5a179069"
      },
      "source": [
        "Другое решение данной задачи - через рекурсию.\n",
        "\n",
        "\n",
        "*Рекурсивная функция - это функция, которая вызывает сама себя с некоторым изменением параметров до тех пор, пока не будет достигнуто условие выхода из рекурсии.*\n",
        "\n",
        "*Простое объяснение на [матрешках](https://www.youtube.com/watch?v=NOaSY5pJmyc).*"
      ],
      "id": "5a179069"
    },
    {
      "cell_type": "code",
      "execution_count": null,
      "metadata": {
        "id": "eae6f7d8"
      },
      "outputs": [],
      "source": [
        "def factorial2(n):\n",
        "    if n == 0:\n",
        "        return 1  # условие выхода из рекурсии\n",
        "    return n * factorial2(n - 1)"
      ],
      "id": "eae6f7d8"
    },
    {
      "cell_type": "code",
      "execution_count": null,
      "metadata": {
        "id": "9fec8ce0"
      },
      "outputs": [],
      "source": [
        "factorial2(4)"
      ],
      "id": "9fec8ce0"
    },
    {
      "cell_type": "markdown",
      "metadata": {
        "id": "abee0e12"
      },
      "source": [
        "# Задачи_2"
      ],
      "id": "abee0e12"
    },
    {
      "cell_type": "markdown",
      "metadata": {
        "id": "f4af7e10"
      },
      "source": [
        "### Задачка 7"
      ],
      "id": "f4af7e10"
    },
    {
      "cell_type": "markdown",
      "metadata": {
        "id": "43c2d860"
      },
      "source": [
        "Напишите функцию, вычисляющую n-ое число последовательности [Фибоначчи](https://ru.wikipedia.org/wiki/%D0%A7%D0%B8%D1%81%D0%BB%D0%B0_%D0%A4%D0%B8%D0%B1%D0%BE%D0%BD%D0%B0%D1%87%D1%87%D0%B8#:~:text=0%2C%201%2C%201%2C%202,%D1%80%D0%B0%D0%B2%D0%BD%D0%BE%20%D1%81%D1%83%D0%BC%D0%BC%D0%B5%20%D0%B4%D0%B2%D1%83%D1%85%20%D0%BF%D1%80%D0%B5%D0%B4%D1%8B%D0%B4%D1%83%D1%89%D0%B8%D1%85%20%D1%87%D0%B8%D1%81%D0%B5%D0%BB.).\n",
        "\n",
        "В последовательности Фибоначчи  первые два числа равны 0 и 1, а каждое последующее число равно сумме двух предыдущих чисел:\n",
        "\n",
        "`1, 1, 2, 3, 5, 8, 13, 21, ...`"
      ],
      "id": "43c2d860"
    },
    {
      "cell_type": "code",
      "execution_count": null,
      "metadata": {
        "id": "ff5fdce6"
      },
      "outputs": [],
      "source": [
        "def fibonacci(n: int) -> int:\n",
        "    if n <= 0:\n",
        "        return \"неверный ввод\"\n",
        "    elif n == 1:\n",
        "        return 0\n",
        "    elif n == 2:\n",
        "        return 1\n",
        "    else:\n",
        "        a, b = 0, 1\n",
        "        for i in range(n-2):\n",
        "            a, b = b, a + b\n",
        "        return b"
      ],
      "id": "ff5fdce6"
    },
    {
      "cell_type": "code",
      "execution_count": null,
      "metadata": {
        "colab": {
          "base_uri": "https://localhost:8080/"
        },
        "id": "tyOCSfkhssU1",
        "outputId": "ff37c0de-7210-468a-8b9c-6001faa195df"
      },
      "outputs": [
        {
          "data": {
            "text/plain": [
              "3"
            ]
          },
          "execution_count": 8,
          "metadata": {},
          "output_type": "execute_result"
        }
      ],
      "source": [
        "fibonacci(5)"
      ],
      "id": "tyOCSfkhssU1"
    },
    {
      "cell_type": "markdown",
      "metadata": {
        "id": "ca850b40"
      },
      "source": [
        "### Задачка 8\n",
        "\n",
        "Напишите функцию, принимающую на вход два списка одинаковой длины и возвращающую список такой же длины, состоящий из суммы элементов с одинаковым индексом если эти элементы различны и 0, если эти элементы равны.\n",
        "\n",
        "Пример:\n",
        "\n",
        "```\n",
        "a = [1, 2, 3, 4, 5]\n",
        "b = [2, 1, 3, 6, 1]\n",
        "\n",
        "res = [3, 3, 0, 10, 5]\n",
        "```"
      ],
      "id": "ca850b40"
    },
    {
      "cell_type": "code",
      "execution_count": null,
      "metadata": {
        "colab": {
          "base_uri": "https://localhost:8080/"
        },
        "id": "4cff32bd",
        "outputId": "a52da945-f1d1-4ea1-d814-95cbc2295624"
      },
      "outputs": [
        {
          "data": {
            "text/plain": [
              "[3, 3, 0, 10, 6]"
            ]
          },
          "execution_count": 9,
          "metadata": {},
          "output_type": "execute_result"
        }
      ],
      "source": [
        "a = [1, 2, 3, 4, 5]\n",
        "b = [2, 1, 3, 6, 1]\n",
        "\n",
        "def zip_list(a: list, b: list) -> list:\n",
        "  res = [i + j if i != j else 0 for i, j in zip(a, b)]\n",
        "  return res\n",
        "\n",
        "zip_list(a, b)"
      ],
      "id": "4cff32bd"
    },
    {
      "cell_type": "markdown",
      "metadata": {
        "id": "99ba26fe"
      },
      "source": [
        "### Задачка 9\n",
        "\n",
        "Напишите функцию, сортируюущую список строк в алфавитном порядке, но с конца слова задом наперед (то есть сначала смотрим на последнюю букву в строке, если они одинаковые, то на предпоследнюю и т.д.)\n",
        "\n",
        "Пример:\n",
        "\n",
        "```\n",
        "a = [ab, sdsda, saae, wdsdq, ssdz]\n",
        "\n",
        "res = [sdsda, ab, saae, wdsdq, ssdz]\n",
        "```"
      ],
      "id": "99ba26fe"
    },
    {
      "cell_type": "code",
      "execution_count": null,
      "metadata": {
        "id": "2a37c353"
      },
      "outputs": [],
      "source": [
        "def sort_strings_reverse(word_list):\n",
        "\n",
        "    def reverse_compare(a, b):\n",
        "        reverse_a = a[::-1]\n",
        "        reverse_b = b[::-1]\n",
        "\n",
        "        for i in range(min(len(reverse_a), len(reverse_b))):\n",
        "            if reverse_a[i] != reverse_b[i]:\n",
        "                return reverse_a[i] < reverse_b[i]\n",
        "        return len(reverse_a) < len(reverse_b)\n",
        "\n",
        "    sorted_list = sorted(word_list, key=lambda x: x[::-1])\n",
        "\n",
        "    return sorted_list"
      ],
      "id": "2a37c353"
    },
    {
      "cell_type": "code",
      "execution_count": null,
      "metadata": {
        "colab": {
          "base_uri": "https://localhost:8080/"
        },
        "id": "a8_qdoGdvSZv",
        "outputId": "1a835909-0261-409e-cf66-4c82631fb0cd"
      },
      "outputs": [
        {
          "data": {
            "text/plain": [
              "['sdsda', 'ab', 'saae', 'wdsdq', 'ssdz']"
            ]
          },
          "execution_count": 30,
          "metadata": {},
          "output_type": "execute_result"
        }
      ],
      "source": [
        "sort_strings_reverse(['ab', 'sdsda', 'saae', 'wdsdq', 'ssdz'])"
      ],
      "id": "a8_qdoGdvSZv"
    },
    {
      "cell_type": "markdown",
      "metadata": {
        "id": "b17418bc"
      },
      "source": [
        "### Задачка 10"
      ],
      "id": "b17418bc"
    },
    {
      "cell_type": "markdown",
      "metadata": {
        "id": "a8775647"
      },
      "source": [
        "Напишите функцию `is_anagram()`, которая принимает на вход две строки и возвращает True, если они являются анаграмами друг друга.\n",
        "\n",
        "Пример\n",
        "\n",
        "```\n",
        ">>> is_anagram(\"manometrical\", \"commentarial\")\n",
        "\n",
        "True\n",
        "\n",
        ">>> is_anagram(\"tastes\", \"estate\")\n",
        "\n",
        "False\n",
        "\n",
        "```"
      ],
      "id": "a8775647"
    },
    {
      "cell_type": "code",
      "execution_count": 59,
      "metadata": {
        "id": "33ed7ff7"
      },
      "outputs": [],
      "source": [
        "def is_anagram(first: str, second: str) -> bool:\n",
        "  a = list(first)\n",
        "  b = list(second)\n",
        "\n",
        "  if len(a) != len(b):\n",
        "    return False\n",
        "  else:\n",
        "    b_set = set(b)\n",
        "    for i in a:\n",
        "      if i in b_set:\n",
        "        a.remove(i)\n",
        "        b.remove(i)\n",
        "      else:\n",
        "         return False\n",
        "    return True"
      ],
      "id": "33ed7ff7"
    },
    {
      "cell_type": "code",
      "execution_count": 63,
      "metadata": {
        "colab": {
          "base_uri": "https://localhost:8080/"
        },
        "id": "71460d65",
        "outputId": "f2272ab1-81c6-4315-c1a2-e9b7678c7c4a"
      },
      "outputs": [
        {
          "output_type": "execute_result",
          "data": {
            "text/plain": [
              "False"
            ]
          },
          "metadata": {},
          "execution_count": 63
        }
      ],
      "source": [
        "is_anagram(\"привет\", \"вертит\")"
      ],
      "id": "71460d65"
    }
  ],
  "metadata": {
    "colab": {
      "provenance": []
    },
    "kernelspec": {
      "display_name": "Python 3 (ipykernel)",
      "language": "python",
      "name": "python3"
    },
    "language_info": {
      "codemirror_mode": {
        "name": "ipython",
        "version": 3
      },
      "file_extension": ".py",
      "mimetype": "text/x-python",
      "name": "python",
      "nbconvert_exporter": "python",
      "pygments_lexer": "ipython3",
      "version": "3.10.9"
    }
  },
  "nbformat": 4,
  "nbformat_minor": 5
}