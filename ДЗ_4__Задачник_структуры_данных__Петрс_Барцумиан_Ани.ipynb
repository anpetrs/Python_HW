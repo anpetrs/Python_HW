{
  "cells": [
    {
      "cell_type": "markdown",
      "metadata": {
        "id": "k2d5YD7djbw1"
      },
      "source": [
        "В этой практике отрабатываем работу со структурами данных:\n",
        "\n",
        "- Списки\n",
        "- Кортежи\n",
        "- Строки\n",
        "- Множества\n",
        "- Словари\n",
        "\n",
        "А также попрактикуемся в использовании comprehensions."
      ]
    },
    {
      "cell_type": "markdown",
      "metadata": {
        "id": "eMeb18Bdj2RM"
      },
      "source": [
        "### Блок 1\n",
        "\n",
        "Отрабатываем умение работать со списками и производить различные операции над ними. В данном блоке заданий старайтесь проверять решение на разных списках, с разными значениями и разной длины, чтобы убедиться, что ваша программа - универсальна.\n"
      ]
    },
    {
      "cell_type": "markdown",
      "metadata": {
        "id": "BnIcDBfmyQLC"
      },
      "source": [
        "*Задача 0 - Перевернуть список*\n",
        "\n",
        "Дан список значений. Поменяйте местами первую половину списка и вторую половину списка.\n",
        "\n",
        "Проверьте, что ваш код:\n",
        "- занимает не более трех строчек кода для одного списка (одна из которых предназначена для вывода результата на экран)\n",
        "- используйте slicing\n",
        "\n"
      ]
    },
    {
      "cell_type": "code",
      "execution_count": null,
      "metadata": {
        "id": "t7wTXfAHhPpw"
      },
      "outputs": [],
      "source": [
        "# опробируйте на списках разной длины (попробуйте свои собственные эксперименты)\n",
        "list1 = [1, 2, 3, 4, 5, 6, 7]\n",
        "list2 = [1, 2, 3, 4]"
      ]
    },
    {
      "cell_type": "code",
      "execution_count": null,
      "metadata": {
        "colab": {
          "base_uri": "https://localhost:8080/"
        },
        "id": "a5aem7YmhVe7",
        "outputId": "1abdc084-c989-4e36-e3fb-82a451b9364d"
      },
      "outputs": [
        {
          "output_type": "stream",
          "name": "stdout",
          "text": [
            "list1 = [4, 5, 6, 7, 1, 2, 3]\n",
            "list2 = [3, 4, 1, 2]\n"
          ]
        }
      ],
      "source": [
        "for i in range(3):\n",
        "  list1 = list1[1:] + [list1[0]]\n",
        "for i in range(2):\n",
        "  list2 = list2[1:] + [list2[0]]\n",
        "print(f\"list1 = {list1}\\nlist2 = {list2}\")"
      ]
    },
    {
      "cell_type": "markdown",
      "metadata": {
        "id": "7mN0NMc1oj46"
      },
      "source": [
        "*Задача 1 - Сдвиг вправо*\n",
        "\n",
        "Дан список значений. Циклически сдвиньте элементы списка вправо:\n",
        "\n",
        "- `list[0]` переходит на `list[1]`\n",
        "- `list[1]` на место `list[2]`\n",
        "- и так далее\n",
        "- последний элемент переходит на место `list[0]`\n",
        "\n",
        "Используйте slicing\n",
        "\n"
      ]
    },
    {
      "cell_type": "code",
      "execution_count": null,
      "metadata": {
        "id": "p8fYppXxpZiZ"
      },
      "outputs": [],
      "source": [
        "list2 = [1, 2, 3, 4]"
      ]
    },
    {
      "cell_type": "code",
      "execution_count": null,
      "metadata": {
        "colab": {
          "base_uri": "https://localhost:8080/"
        },
        "id": "8nV3D0aGpRhG",
        "outputId": "985f2cb7-9dca-4028-c652-0d7729e216a4"
      },
      "outputs": [
        {
          "output_type": "stream",
          "name": "stdout",
          "text": [
            "list2 = [6, 1, 2, 3, 4, 5]\n"
          ]
        }
      ],
      "source": [
        "def cycle_list(lst):\n",
        "  for i in range(len(lst)):\n",
        "    lst = [lst[-1]] + lst[0:-1]\n",
        "    return lst\n",
        "\n",
        "list2 = [1, 2, 3, 4, 5, 6]\n",
        "res = cycle_list(list2)\n",
        "print(f\"list2 = {res}\")"
      ]
    },
    {
      "cell_type": "markdown",
      "metadata": {
        "id": "FPx-GtT4snUo"
      },
      "source": [
        "*Задача 2 - Отрабатываем операции над списками*\n",
        "\n",
        "В переменной `result` дан список. Произведите с ним следующие действия:\n",
        "- Оставьте в нем первую половину элементов.\n",
        "- Добавьте в текущий список столько же нулей, сколько сейчас элементов в `result`\n",
        "- Предпоследний элемент сделайте равным 100\n",
        "- Посчитайте сумму элементов в данном цикле и выведите ее на экран\n",
        "\n",
        "На каждом шаге выводите промежуточный результат\n",
        "\n"
      ]
    },
    {
      "cell_type": "code",
      "execution_count": null,
      "metadata": {
        "id": "nluOYTIpuW6w"
      },
      "outputs": [],
      "source": [
        "result = [1, 100, -100, 23, 13, 78, 89, 90, 100, 0]"
      ]
    },
    {
      "cell_type": "code",
      "execution_count": null,
      "metadata": {
        "colab": {
          "base_uri": "https://localhost:8080/"
        },
        "id": "9nllw6qqucTs",
        "outputId": "51fb2427-4378-42a9-ccaa-f67fcddf0fe5"
      },
      "outputs": [
        {
          "output_type": "stream",
          "name": "stdout",
          "text": [
            "result = [1, 100, -100, 23, 13]\n",
            "result = [1, 100, -100, 23, 13, 0, 0, 0, 0, 0]\n",
            "result = [1, 100, -100, 23, 13, 0, 0, 0, 100, 0]\n",
            "сумма = 137\n"
          ]
        }
      ],
      "source": [
        "#оставить первую половину списка\n",
        "\n",
        "def half_lst(lst):\n",
        "  h_ind = len(lst) // 2\n",
        "  h_lst = lst[:h_ind]\n",
        "  print(f\"result = {h_lst}\")\n",
        "\n",
        "lst = [1, 100, -100, 23, 13, 78, 89, 90, 100, 0]\n",
        "half_lst(lst)\n",
        "\n",
        "#добавить в текущий список столько же нулей, сколько сейчас элементов в result\n",
        "\n",
        "def n_lst(lst):\n",
        "    h_ind = len(lst)\n",
        "    result2 = lst[:h_ind]\n",
        "    for i in range(h_ind):\n",
        "      result2.append(0)\n",
        "    print(f\"result = {result2}\")\n",
        "\n",
        "lst = [1, 100, -100, 23, 13]\n",
        "n_lst(lst)\n",
        "\n",
        "#предпоследний элемент сделать равным 100\n",
        "\n",
        "result = [1, 100, -100, 23, 13, 0, 0, 0, 0, 0]\n",
        "result[-2] = 100\n",
        "print(f\"result = {result}\")\n",
        "\n",
        "#сумма элементов в цикле\n",
        "s = sum(result)\n",
        "print(f\"сумма = {s}\")"
      ]
    },
    {
      "cell_type": "markdown",
      "metadata": {
        "id": "X5Xx7eBVwimB"
      },
      "source": [
        "*Задача 3 - Перестановка минимума и максимума*\n",
        "\n",
        "Дан список. С помощью кода найдите минимальные и максимальные элементы, переставьте их местами.\n",
        "Для нахождения индекса элемента по значению воспользуйтесь функцией индекс.\n",
        "\n"
      ]
    },
    {
      "cell_type": "code",
      "execution_count": null,
      "metadata": {
        "id": "0ISqI0yZxBAD"
      },
      "outputs": [],
      "source": [
        "result = [1, 100, -1000, 23, 13, 78, 89, 90, 12345, 12000]"
      ]
    },
    {
      "cell_type": "code",
      "execution_count": null,
      "metadata": {
        "colab": {
          "base_uri": "https://localhost:8080/"
        },
        "id": "kJPFKgP5x65R",
        "outputId": "821f96ef-0a9d-4ec1-d8b8-30d1ede39284"
      },
      "outputs": [
        {
          "data": {
            "text/plain": [
              "4"
            ]
          },
          "execution_count": 30,
          "metadata": {},
          "output_type": "execute_result"
        }
      ],
      "source": [
        "# пример использования метода index: находим индекс элемента 13\n",
        "result.index(13)"
      ]
    },
    {
      "cell_type": "code",
      "execution_count": null,
      "metadata": {
        "colab": {
          "base_uri": "https://localhost:8080/",
          "height": 193
        },
        "id": "lJDwZ5xP0AJ-",
        "outputId": "b164ccf8-a465-46ab-8dab-992324e074f7"
      },
      "outputs": [
        {
          "ename": "ValueError",
          "evalue": "ignored",
          "output_type": "error",
          "traceback": [
            "\u001b[0;31m---------------------------------------------------------------------------\u001b[0m",
            "\u001b[0;31mValueError\u001b[0m                                Traceback (most recent call last)",
            "\u001b[0;32m<ipython-input-23-6fb4b239a045>\u001b[0m in \u001b[0;36m<cell line: 2>\u001b[0;34m()\u001b[0m\n\u001b[1;32m      1\u001b[0m \u001b[0;31m# индекс несущствующего элемента\u001b[0m\u001b[0;34m\u001b[0m\u001b[0;34m\u001b[0m\u001b[0m\n\u001b[0;32m----> 2\u001b[0;31m \u001b[0mresult\u001b[0m\u001b[0;34m.\u001b[0m\u001b[0mindex\u001b[0m\u001b[0;34m(\u001b[0m\u001b[0;34m-\u001b[0m\u001b[0;36m1\u001b[0m\u001b[0;34m)\u001b[0m\u001b[0;34m\u001b[0m\u001b[0;34m\u001b[0m\u001b[0m\n\u001b[0m",
            "\u001b[0;31mValueError\u001b[0m: -1 is not in list"
          ]
        }
      ],
      "source": [
        "# индекс несущствующего элемента\n",
        "result.index(-1)"
      ]
    },
    {
      "cell_type": "code",
      "execution_count": null,
      "metadata": {
        "colab": {
          "base_uri": "https://localhost:8080/"
        },
        "id": "Wp9eRkG2xDCy",
        "outputId": "758b4b1f-df49-475a-ee02-b2db803229e2"
      },
      "outputs": [
        {
          "output_type": "stream",
          "name": "stdout",
          "text": [
            "[1, 100, -1000, 23, 13, 78, 89, 90, 12345, 12000]\n",
            "12345 -1000\n",
            "8\n",
            "2\n",
            "[1, 100, 12345, 23, 13, 78, 89, 90, -1000, 12000]\n"
          ]
        }
      ],
      "source": [
        "result = [1, 100, -1000, 23, 13, 78, 89, 90, 12345, 12000]\n",
        "print(result)\n",
        "ma = max(result)\n",
        "mi = min(result)\n",
        "print(ma, mi)\n",
        "print(result.index(ma))\n",
        "print(result.index(mi))\n",
        "result[8] = -1000\n",
        "result[2] = 12345\n",
        "print(result)"
      ]
    },
    {
      "cell_type": "markdown",
      "metadata": {
        "id": "tVoPrLQljOuy"
      },
      "source": [
        "*Задача 4 - Соседи*\n",
        "\n",
        "Дан список. Выведите все элементы списка, которые строго больше предыдущего элемента. Для итерирования по элементам списка используйте цикл.\n",
        "\n"
      ]
    },
    {
      "cell_type": "code",
      "execution_count": null,
      "metadata": {
        "id": "2rl-ccrOlU_c"
      },
      "outputs": [],
      "source": [
        "list3 = [1, 2, 100, 99, 88, -1 , 0, 11, 10]"
      ]
    },
    {
      "cell_type": "code",
      "execution_count": null,
      "metadata": {
        "colab": {
          "base_uri": "https://localhost:8080/"
        },
        "id": "4M1FG9RXlcZO",
        "outputId": "da3f8f17-fcc3-4384-c478-1bd0a647696b"
      },
      "outputs": [
        {
          "output_type": "stream",
          "name": "stdout",
          "text": [
            "2\n",
            "100\n",
            "0\n",
            "11\n"
          ]
        }
      ],
      "source": [
        "for i in range(1, len(list3)):\n",
        "  if list3[i] > list3[i-1]:\n",
        "    print(list3[i])"
      ]
    },
    {
      "cell_type": "markdown",
      "metadata": {
        "id": "XB1RAMUNrbkS"
      },
      "source": [
        "*Задача 5 - Найти все вхождения числа в список*\n",
        "\n",
        "Пользователь вводит последовательность чисел в одну строку через пробел. Рассчитайте, сколько из введенных чисел равно единице.\n",
        "\n"
      ]
    },
    {
      "cell_type": "code",
      "execution_count": null,
      "metadata": {
        "colab": {
          "base_uri": "https://localhost:8080/"
        },
        "id": "7cuLZEcYrGX3",
        "outputId": "3e381848-a3bc-44f2-f29c-1581ed7c6c14"
      },
      "outputs": [
        {
          "output_type": "stream",
          "name": "stdout",
          "text": [
            "Введите список чисел через пробел: 1 2 3 1 2 3 4 5\n",
            "единице равно столько чисел:  2\n"
          ]
        }
      ],
      "source": [
        "inp = input(\"Введите список чисел через пробел: \").split()\n",
        "c = 0\n",
        "for i in inp:\n",
        "  if int(i) == 1:\n",
        "    c += 1\n",
        "print('единице равно столько чисел: ', c)"
      ]
    },
    {
      "cell_type": "markdown",
      "metadata": {
        "id": "56a13dOxmAht"
      },
      "source": [
        "*Задача 6 - Больше всех своих соседей (Дополнительная!)*\n",
        "\n",
        "Пользователь вводит последовательность чисел в одну строку через пробел. Рассчитайте, сколько из чисел строго больше двух своих соседей. Также выведите эти самые числа на экран.\n",
        "\n"
      ]
    },
    {
      "cell_type": "code",
      "execution_count": null,
      "metadata": {
        "colab": {
          "base_uri": "https://localhost:8080/"
        },
        "id": "-KlhMoo9mm31",
        "outputId": "0daebc69-0163-471a-c500-be01ae00cd06"
      },
      "outputs": [
        {
          "output_type": "stream",
          "name": "stdout",
          "text": [
            "Введите список чисел через пробел: 1 2 1 3 5 4\n",
            "числа:  [1, 4]\n",
            "всего таких чисел:  2\n"
          ]
        }
      ],
      "source": [
        "inp = input(\"Введите список чисел через пробел: \").split()\n",
        "c = 0\n",
        "num = []\n",
        "\n",
        "for i in range(1, len(inp) -1):\n",
        "  if inp[i] > inp[i -1] and inp[i] > inp[i + 1]:\n",
        "    num.append(i)\n",
        "    c += 1\n",
        "print('числа: ', num)\n",
        "print('всего таких чисел: ', c)"
      ]
    },
    {
      "cell_type": "markdown",
      "metadata": {
        "id": "4vB_C6Pzp84V"
      },
      "source": [
        "*Задача 7 - Проредить массив (Дополнительная!)*\n",
        "\n",
        "Пользователь вводит последовательность чисел в одну строку через пробел. Создайте новый список, на базе исходного, в котором переставьте все нули списка в конец, а все ненулевые элементы оставьте в начале списка в том же порядке, в каком они были изначально. Выведите результат на экран.\n",
        "\n"
      ]
    },
    {
      "cell_type": "code",
      "execution_count": null,
      "metadata": {
        "colab": {
          "base_uri": "https://localhost:8080/"
        },
        "id": "YO_CIMgprEGz",
        "outputId": "87d654a9-5e45-4dc2-ba3e-3cbfdc62280e"
      },
      "outputs": [
        {
          "name": "stdout",
          "output_type": "stream",
          "text": [
            "Введите список чисел через пробел: 1 2 0 3 4 0 5 6 0 7 8 0 9\n",
            "обновлённый список:  [1, 2, 3, 4, 5, 6, 7, 8, 9, 0, 0, 0, 0]\n"
          ]
        }
      ],
      "source": [
        "inp = input(\"Введите список чисел через пробел: \").split()\n",
        "\n",
        "list = [int(num) for num in inp]\n",
        "result = [num for num in list if num !=0] + [num for num in list if num ==0]\n",
        "\n",
        "print('обновлённый список: ', result)"
      ]
    },
    {
      "cell_type": "markdown",
      "metadata": {
        "id": "qZafpq2br51j"
      },
      "source": [
        "### Блок 2\n",
        "\n",
        "Отрабатываем умение работать с кортежами, множествами и словарями. В данном блоке заданий старайтесь проверять решение на разных наборах значений и разной длины, чтобы убедиться, что ваша программа - универсальна."
      ]
    },
    {
      "cell_type": "markdown",
      "metadata": {
        "id": "CMa6fcuos0An"
      },
      "source": [
        "*Задача 0 - Общие элементы*\n",
        "\n",
        "Даны два списка. Найдите элементы, которые есть и в первом списке и во втором, выведите их количество на экран\n",
        "\n"
      ]
    },
    {
      "cell_type": "code",
      "execution_count": null,
      "metadata": {
        "colab": {
          "base_uri": "https://localhost:8080/"
        },
        "id": "7-3TqHd6tBqZ",
        "outputId": "01e98311-062d-463a-cdec-81d6f37baf03"
      },
      "outputs": [
        {
          "name": "stdout",
          "output_type": "stream",
          "text": [
            "3\n"
          ]
        }
      ],
      "source": [
        "list1 = [1, 2, 3, 'p', -1, 20, 0.2, 'u']\n",
        "list2 = [11, 22, 33, 'p', -1, 20.2, 0.2]\n",
        "a = set(list1)\n",
        "b = set(list2)\n",
        "\n",
        "print(len(a & b))\n"
      ]
    },
    {
      "cell_type": "markdown",
      "metadata": {
        "id": "Wky-SIiVkRv1"
      },
      "source": [
        "*Задача 1 - Уникальные элементы*\n",
        "\n",
        "Пользователь вводит числа на экран в одну строку через пробел. Выведите, сколько уникальных чисел было введено.\n",
        "\n"
      ]
    },
    {
      "cell_type": "code",
      "execution_count": null,
      "metadata": {
        "colab": {
          "base_uri": "https://localhost:8080/"
        },
        "id": "fRclUqnsjYyk",
        "outputId": "d0c160ba-1e37-4c95-bf5e-b6239b647079"
      },
      "outputs": [
        {
          "name": "stdout",
          "output_type": "stream",
          "text": [
            "введите список чисел через пробел: 4 6 3 74 0 1 2 1 1 1 3 4 6 6 \n",
            "уникальныйх чисел =  7\n"
          ]
        }
      ],
      "source": [
        "n = input(\"введите список чисел через пробел: \").split()\n",
        "set(n)\n",
        "a = set(n)\n",
        "print('уникальныйх чисел = ', len(a))"
      ]
    },
    {
      "cell_type": "markdown",
      "metadata": {
        "id": "48HI-niWhRhm"
      },
      "source": [
        "*Задача 2 - Площадь*\n",
        "\n",
        "Даны списки из 2 элементов, каждый из которых является координатами точек A и B соответственно. Напишите функцию, которая ищет расстояние между этими точками. Найти расстояние между двумя точками можно по формуле Евклидова расстояния.\n",
        "\n",
        "https://ru.wikipedia.org/wiki/%D0%95%D0%B2%D0%BA%D0%BB%D0%B8%D0%B4%D0%BE%D0%B2%D0%B0_%D0%BC%D0%B5%D1%82%D1%80%D0%B8%D0%BA%D0%B0\n",
        "\n",
        "PS. Попробуйте запустить программу на разных точках с разными размерностями\n",
        "\n",
        "\n",
        "\n",
        "\n",
        "\n",
        "\n"
      ]
    },
    {
      "cell_type": "code",
      "execution_count": null,
      "metadata": {
        "id": "s2K5kY3x5jCT"
      },
      "outputs": [],
      "source": [
        "coords = [(100, 91, 87), (80, 35, 70)]"
      ]
    },
    {
      "cell_type": "code",
      "execution_count": null,
      "metadata": {
        "colab": {
          "base_uri": "https://localhost:8080/"
        },
        "id": "0vFcWerKsXR4",
        "outputId": "9bea845a-b920-4c28-f7e2-f2a7a4dd69b6"
      },
      "outputs": [
        {
          "output_type": "stream",
          "name": "stdout",
          "text": [
            "59.464274989274024\n"
          ]
        }
      ],
      "source": [
        "import math\n",
        "\n",
        "def dist(coords):\n",
        "  point_a = coords[0]\n",
        "  point_b = coords[-1]\n",
        "  x1, y1 = point_a[:2]\n",
        "  x2, y2 = point_b[:2]\n",
        "\n",
        "  s = math.sqrt((x2 - x1)**2 + (y2 - y1)**2)\n",
        "  return s\n",
        "\n",
        "coords = [(100, 91, 87), (80, 35, 70)]\n",
        "\n",
        "if len(coords) == 2:\n",
        "  s = dist(coords)\n",
        "elif len(coords) == 3:\n",
        "  s = sum(dist(coords[i:i+2]) for i in range(len(coords)-1))\n",
        "else:\n",
        "  s = 0\n",
        "\n",
        "print(s)"
      ]
    },
    {
      "cell_type": "markdown",
      "metadata": {
        "id": "0DR8PiXZ91eA"
      },
      "source": [
        "*Задача 3 - Количество повторений слов*\n",
        "\n",
        "В переменной `text` записан некоторый текст. Посчитайте частотность появления каждого уникального слова в тексте. Используйте для хранения частотности наиболее подходящую структуру данных.\n",
        "\n",
        "В результате выведите информацию по частотности каждого слова на экран.\n",
        "\n",
        "Словом будем считать последовательности символов, отделенную пробелом от следующей последовательности символов.\n",
        "\n",
        "\n",
        "\n",
        "\n"
      ]
    },
    {
      "cell_type": "code",
      "execution_count": null,
      "metadata": {
        "id": "rDHxIyRupZTF"
      },
      "outputs": [],
      "source": [
        "text = '''She sells sea shells on the sea shore \\\n",
        "The shells that she sells are sea shells I'm sure \\\n",
        "So if she sells sea shells on the sea shore \\\n",
        "I'm sure that the shells are sea shore shells'''"
      ]
    },
    {
      "cell_type": "code",
      "execution_count": null,
      "metadata": {
        "id": "G__KrNehE77u"
      },
      "outputs": [],
      "source": [
        "# 1-cписок , 2-регистр, 3-сделать множеством уникальных слов, 4-создать_словарь"
      ]
    },
    {
      "cell_type": "code",
      "execution_count": null,
      "metadata": {
        "colab": {
          "base_uri": "https://localhost:8080/"
        },
        "id": "jvlHy8ey-1DU",
        "outputId": "69cdaf60-f9ff-4403-e575-86dea656af14"
      },
      "outputs": [
        {
          "name": "stdout",
          "output_type": "stream",
          "text": [
            "Counter({'sea': 6, 'shells': 6, 'sells': 3, 'the': 3, 'shore': 3, 'on': 2, 'that': 2, 'she': 2, 'are': 2, \"I'm\": 2, 'sure': 2, 'She': 1, 'The': 1, 'So': 1, 'if': 1})\n"
          ]
        }
      ],
      "source": [
        "from collections import Counter\n",
        "\n",
        "t = text.split(' ')\n",
        "print(Counter(t))\n"
      ]
    },
    {
      "cell_type": "markdown",
      "metadata": {
        "id": "hYwTq9vvALRT"
      },
      "source": [
        "*Задача 4 - Средний балл*\n",
        "\n",
        "В переменной `grades` записаны оценки учеников за экзамен по физике в разных классах одной параллели. Рассчитайте средний балл по каждому классу, и средний балл по параллели целиком. Выведите результаты на экран, округлив все значения с точностью до 2 знаков.\n",
        "\n",
        "\n",
        "\n",
        "\n"
      ]
    },
    {
      "cell_type": "code",
      "execution_count": null,
      "metadata": {
        "id": "igEAnwZU_FZ9"
      },
      "outputs": [],
      "source": [
        "grades = {\n",
        "    '11A': [4, 5, 4, 5, 4, 5, 5, 5, 5, 5, 5, 3],\n",
        "    '11B': [3, 5, 3, 4, 4, 5, 4, 5, 4, 5, 5, 5],\n",
        "    '11C': [3, 3, 4, 4, 4, 5, 5, 5, 5, 5,],\n",
        "    '11D': [4, 4, 4, 5, 4, 5, 5, 5, 4, 4, 4, 4],\n",
        "    '11E': [3, 3, 3, 4, 4, 4, 5, 5, 5, 5, 5, 4, 3]\n",
        "}"
      ]
    },
    {
      "cell_type": "code",
      "execution_count": null,
      "metadata": {
        "colab": {
          "background_save": true,
          "base_uri": "https://localhost:8080/",
          "height": 315
        },
        "id": "x-xjF0BLBXMG",
        "outputId": "db6f7e23-78b3-4786-a1c7-6f03e61f4157"
      },
      "outputs": [
        {
          "name": "stdout",
          "output_type": "stream",
          "text": [
            "средний балл 11A = 4.58\n",
            "средний балл 11B = 4.33\n",
            "средний балл 11C = 4.30\n",
            "средний балл 11D = 4.33\n",
            "средний балл 11E = 4.08\n",
            "средний балл в 11 классе по параллелям = 4.32\n"
          ]
        }
      ],
      "source": [
        "mb_11a =sum(grades['11A']) / len(grades['11A'])\n",
        "print(f\"средний балл 11A = {mb_11a:.2f}\")\n",
        "mb_11b =sum(grades['11B']) / len(grades['11B'])\n",
        "print(f\"средний балл 11B = {mb_11b:.2f}\")\n",
        "mb_11c =sum(grades['11C']) / len(grades['11C'])\n",
        "print(f\"средний балл 11C = {mb_11c:.2f}\")\n",
        "mb_11d =sum(grades['11D']) / len(grades['11D'])\n",
        "print(f\"средний балл 11D = {mb_11d:.2f}\")\n",
        "mb_11e =sum(grades['11E']) / len(grades['11E'])\n",
        "print(f\"средний балл 11E = {mb_11e:.2f}\")\n",
        "mb_11 =sum(grades['11A']+grades['11B']+grades['11C']+grades['11D']+grades['11E']) / len(grades['11A']+grades['11B']+grades['11C']+grades['11D']+grades['11E'])\n",
        "print(f\"средний балл в 11 классе по параллелям = {mb_11:.2f}\")"
      ]
    },
    {
      "cell_type": "markdown",
      "metadata": {
        "id": "6XCnZNmRDB1u"
      },
      "source": [
        "*Задача 5 - Проверка на новизну*\n",
        "\n",
        "Пользователь вводит числа на экран в строку через пробел. Для каждого числа выведите `y` или `n`. `y` - если данное число до этого встречалось в списке, `n` - если нет.\n",
        "\n",
        "\n",
        "\n",
        "\n"
      ]
    },
    {
      "cell_type": "code",
      "execution_count": null,
      "metadata": {
        "colab": {
          "base_uri": "https://localhost:8080/"
        },
        "id": "J5m7PKXiB8Xh",
        "outputId": "0eb0dfbd-fdeb-4798-802f-6bf11e8e176a"
      },
      "outputs": [
        {
          "name": "stdout",
          "output_type": "stream",
          "text": [
            "Введите список чисел через пробел: 1 3 5 7 9 0 1 2 4 6\n",
            "n n n n n n y n n n\n"
          ]
        }
      ],
      "source": [
        "inp = input(\"Введите список чисел через пробел: \").split()\n",
        "result = set()\n",
        "end = []\n",
        "\n",
        "for i in inp:\n",
        "  if i in result:\n",
        "    end.append('y')\n",
        "  else:\n",
        "    end.append('n')\n",
        "    result.add(i)\n",
        "\n",
        "end = ' '.join(end)\n",
        "print(end)"
      ]
    },
    {
      "cell_type": "markdown",
      "metadata": {
        "id": "zsRpDR6eJmj6"
      },
      "source": [
        "*Задача 6 - Значения роста* (Дополнительная!)\n",
        "\n",
        "В словаре `students` хранится рост студентов, измеренный на первом занятии физкультуры.\n",
        "Приходит новый студент, через строку ввода он указывает свои ФИО и рост. Запишите его данные в словарь, и выявите, какой по очереди он будет стоять в шеренге, отсортированной по убыванию роста (расчет в шеренге начинается единицы). Если у двух студентов рост одинаковый, наш студент будет стоять последним.\n",
        "\n",
        "\n",
        "\n",
        "\n",
        "\n"
      ]
    },
    {
      "cell_type": "code",
      "execution_count": null,
      "metadata": {
        "id": "mzEZbKmlEXkt"
      },
      "outputs": [],
      "source": [
        "students = {\n",
        "    'ИвановИИ': 170,\n",
        "    'ЖдановИЮ': 183,\n",
        "    'ИвановаАА': 168,\n",
        "    'МаркинаГА': 169,\n",
        "    'ПетроваАВ': 172,\n",
        "    'ПотаповЮР': 175,\n",
        "    'ЛарионовСБ': 177\n",
        "}"
      ]
    },
    {
      "cell_type": "code",
      "execution_count": null,
      "metadata": {
        "colab": {
          "base_uri": "https://localhost:8080/"
        },
        "id": "5FjaQFS1W9VO",
        "outputId": "e2665969-8f84-4eaf-99a1-60d57bbaa906"
      },
      "outputs": [
        {
          "name": "stdout",
          "output_type": "stream",
          "text": [
            "введите фи: ПетрсА\n",
            "введите рост: 165\n",
            "{1: ('ЖдановИЮ', 183), 2: ('ЛарионовСБ', 177), 3: ('ПотаповЮР', 175), 4: ('ПетроваАВ', 172), 5: ('ИвановИИ', 170), 6: ('МаркинаГА', 169), 7: ('ИвановаАА', 168), 8: ('ПетрсА', 165)}\n"
          ]
        }
      ],
      "source": [
        "name = str(input(\"введите фи: \"))\n",
        "sm = int(input(\"введите рост: \"))\n",
        "\n",
        "students[name] = sm\n",
        "sort_students = dict(enumerate(sorted(students.items(), key=lambda x: x[1], reverse=True), start=1))\n",
        "print(sort_students)"
      ]
    },
    {
      "cell_type": "markdown",
      "metadata": {
        "id": "UYAqME81K5bY"
      },
      "source": [
        "### Блок 3\n",
        "\n",
        "В этом блоке отрабатываем умение пользоваться list/dict comprehensions, а также функцию zip.\n",
        "\n",
        "11 пункт - дополнительный"
      ]
    },
    {
      "cell_type": "markdown",
      "metadata": {
        "id": "UnMeB573LjwN"
      },
      "source": [
        "*Задача 0 - Отрабатываем умение писать генераторы*\n",
        "\n",
        "Определите генераторы, по описанию в комментариях. Выведите результат генерации на экран\n",
        "\n"
      ]
    },
    {
      "cell_type": "code",
      "execution_count": null,
      "metadata": {
        "colab": {
          "base_uri": "https://localhost:8080/"
        },
        "id": "Zav1H8kjPJ0Q",
        "outputId": "b07aed42-acd6-4fa9-aa29-ceb1adab6e1a"
      },
      "outputs": [
        {
          "output_type": "stream",
          "name": "stdout",
          "text": [
            "['user1', 'user2', 'user3', 'user4', 'user5', 'user6', 'user7', 'user8', 'user9', 'user10', 'user11', 'user12', 'user13', 'user14', 'user15']\n"
          ]
        }
      ],
      "source": [
        "# 1. сгенерируйте список строк: user1, user2, user3 итд до user15\n",
        "res = res = [f\"user{i}\" for i in range (1, 16)]\n",
        "print(res)"
      ]
    },
    {
      "cell_type": "code",
      "execution_count": null,
      "metadata": {
        "colab": {
          "base_uri": "https://localhost:8080/"
        },
        "id": "r3t-pHELSYYD",
        "outputId": "d5360b6a-d1ec-4407-84bb-5589a2d04606"
      },
      "outputs": [
        {
          "name": "stdout",
          "output_type": "stream",
          "text": [
            "[-4, 4, 2, 2, 10, -8, -10, 8, -6, -3]\n"
          ]
        }
      ],
      "source": [
        "# 2. сгенерируйте список из 10 случайных значений от -10 до 10\n",
        "\n",
        "import random\n",
        "\n",
        "random_list = [random.randint(-10, 10) for i in range(10)]\n",
        "print(random_list)"
      ]
    },
    {
      "cell_type": "code",
      "execution_count": null,
      "metadata": {
        "colab": {
          "base_uri": "https://localhost:8080/"
        },
        "id": "6EUFvximNPcB",
        "outputId": "557e7011-e3d9-4b12-965f-0e92f387eaf5"
      },
      "outputs": [
        {
          "name": "stdout",
          "output_type": "stream",
          "text": [
            "['4.00', '4.12', '4.24', '4.36', '4.47', '4.58', '4.69', '4.80', '4.90', '5.00']\n"
          ]
        }
      ],
      "source": [
        "# 3. сгенерируйте список из квадратных корней всех чисел от 16 до 25 включительно. Округлите все значения до двух знаков после запятой\n",
        "\n",
        "squares = [i ** 0.5 for i in range(16, 26)]\n",
        "squares2 = [f\"{i:.2f}\" for i in squares]\n",
        "print(squares2)"
      ]
    },
    {
      "cell_type": "code",
      "execution_count": null,
      "metadata": {
        "colab": {
          "base_uri": "https://localhost:8080/"
        },
        "id": "LLCXlpiXLMk0",
        "outputId": "5ae67fba-7c2f-429b-d692-43cdf033b0c2"
      },
      "outputs": [
        {
          "name": "stdout",
          "output_type": "stream",
          "text": [
            "[40, 42, 44, 46, 48, 50, 52, 54, 56, 58, 60]\n"
          ]
        }
      ],
      "source": [
        "# 4. сгенерируйте список из четных числа от 40 до 60 включительно без использования if\n",
        "\n",
        "num = [i for i in range(40, 61, 2)]\n",
        "print(num)"
      ]
    },
    {
      "cell_type": "code",
      "execution_count": null,
      "metadata": {
        "colab": {
          "base_uri": "https://localhost:8080/"
        },
        "id": "YztczXNtMJwL",
        "outputId": "bf81d808-550a-4ca0-9c05-82980c6876e7"
      },
      "outputs": [
        {
          "name": "stdout",
          "output_type": "stream",
          "text": [
            "[40, 44, 46, 50, 52, 56, 58]\n"
          ]
        }
      ],
      "source": [
        "# 5. в предыдущем генераторе добавьте условие: если число делится на 6 - его не включать в список значений\n",
        "\n",
        "num = [i for i in range(40, 61, 2) if i % 6 != 0]\n",
        "print(num)"
      ]
    },
    {
      "cell_type": "code",
      "execution_count": null,
      "metadata": {
        "colab": {
          "base_uri": "https://localhost:8080/"
        },
        "id": "06j2ev47Oifd",
        "outputId": "c4f0441e-83a5-4fce-bbbd-132205842c63"
      },
      "outputs": [
        {
          "name": "stdout",
          "output_type": "stream",
          "text": [
            "[40, 'Y', 44, 46, 'Y', 50, 52, 'Y', 56, 58, 'Y']\n"
          ]
        }
      ],
      "source": [
        "# 6. сгенерируйте список из четных числа от 40 до 60 включительно. Если какое-то из четных чисел делится на 6 - вместо него поставьте символ 'Y'\n",
        "\n",
        "num = [i if i % 6 != 0 else 'Y' for i in range(40, 61, 2)]\n",
        "print(num)"
      ]
    },
    {
      "cell_type": "code",
      "execution_count": null,
      "metadata": {
        "colab": {
          "base_uri": "https://localhost:8080/"
        },
        "id": "mJlNikBpO6TS",
        "outputId": "6d3005b4-2d4f-45a1-8053-486bb4db001a"
      },
      "outputs": [
        {
          "name": "stdout",
          "output_type": "stream",
          "text": [
            "{'yellow': 6, 'green': 5, 'blue': 4, 'red': 3, 'pink': 4, 'deep-blue': 9, 'white': 5}\n"
          ]
        }
      ],
      "source": [
        "# 7. сгенерируйте словарь, в котором ключи это значения из списка list1, а значения - это количество символов в названии ключа\n",
        "\n",
        "list1 = ['yellow', 'green', 'blue', 'red', 'pink', 'deep-blue', 'white']\n",
        "d = {i: len(i) for i in list1}\n",
        "print(d)"
      ]
    },
    {
      "cell_type": "code",
      "execution_count": null,
      "metadata": {
        "colab": {
          "base_uri": "https://localhost:8080/"
        },
        "id": "RimXeAv4QAlW",
        "outputId": "802367a5-0c16-416f-fcf1-bdb3a34270b3"
      },
      "outputs": [
        {
          "output_type": "stream",
          "name": "stdout",
          "text": [
            "{'user1': '4.00', 'user2': '4.12', 'user3': '4.24', 'user4': '4.36', 'user5': '4.47', 'user6': '4.58', 'user7': '4.69', 'user8': '4.80', 'user9': '4.90', 'user10': '5.00'}\n"
          ]
        }
      ],
      "source": [
        "# 8. сгенерируйте словарь, в котором ключи это значения из списка, полученного в пункте 1, а значения из пункта 3\n",
        "\n",
        "res = ['user' + str(i) for i in range(1, 16)]\n",
        "\n",
        "squares = [i ** 0.5 for i in range(16, 26)]\n",
        "squares2 = [f\"{i:.2f}\" for i in squares]\n",
        "\n",
        "d = {i: j for i, j in zip(res, squares2)}\n",
        "print(d)"
      ]
    },
    {
      "cell_type": "code",
      "execution_count": null,
      "metadata": {
        "colab": {
          "base_uri": "https://localhost:8080/"
        },
        "id": "cTnVuGoJQpDu",
        "outputId": "02afebcf-0e86-4fa6-c529-883b1789aa20"
      },
      "outputs": [
        {
          "output_type": "stream",
          "name": "stdout",
          "text": [
            "{'user2': '4.12', 'user3': '4.24', 'user4': '4.36', 'user5': '4.47', 'user6': '4.58', 'user7': '4.69', 'user8': '4.80', 'user9': '4.90'}\n"
          ]
        }
      ],
      "source": [
        "# 9. дополните предыдущий пункт условием так, чтобы оставить только тех пользователей, у которых в значении не целое число\n",
        "\n",
        "res = ['user' + str(i) for i in range(1, 16)]\n",
        "\n",
        "squares = [i ** 0.5 for i in range(16, 26)]\n",
        "squares2 = [f\"{i:.2f}\" for i in squares]\n",
        "\n",
        "d = {i: j for i, j in zip(res, squares2) if int(float(j)) != float(j)}\n",
        "print(d)"
      ]
    },
    {
      "cell_type": "code",
      "execution_count": null,
      "metadata": {
        "colab": {
          "base_uri": "https://localhost:8080/"
        },
        "id": "45R7RTT-Q3ze",
        "outputId": "e3455d54-c5e1-47ea-d110-333f9bcd9c5b"
      },
      "outputs": [
        {
          "output_type": "stream",
          "name": "stdout",
          "text": [
            "{'user1': '4.00', 'user2': '4.12', 'user3': '4.24', 'user4': '4.36', 'user5': '4.47', 'user6': '4.58', 'user7': '4.69', 'user8': '4.80', 'user9': '4.90', 'user10': '5.00', 'user11': 'None', 'user12': 'None', 'user13': 'None', 'user14': 'None', 'user15': 'None'}\n"
          ]
        }
      ],
      "source": [
        "# 10. дополните пункт 8 так, чтобы для всех пользователей из сгенерированных в пункте 1 создалась пара в итоговом словаре\n",
        "\n",
        "res = ['user' + str(i) for i in range(1, 16)]\n",
        "\n",
        "squares = [i ** 0.5 for i in range(16, 26)]\n",
        "squares2 = [f\"{i:.2f}\" for i in squares]\n",
        "\n",
        "d = {i: j for i, j in zip(res, squares2)}\n",
        "d2 = {i: d.get(i, 'None') for i in res}\n",
        "\n",
        "print(d2)"
      ]
    },
    {
      "cell_type": "code",
      "execution_count": null,
      "metadata": {
        "colab": {
          "base_uri": "https://localhost:8080/"
        },
        "id": "HKswT_TcVCJM",
        "outputId": "f99f72c2-f0f0-4cd6-cfd0-f87aef7f1344"
      },
      "outputs": [
        {
          "output_type": "stream",
          "name": "stdout",
          "text": [
            "ani:2\n",
            "{'ani': 2}\n"
          ]
        }
      ],
      "source": [
        "# 11. пользователь на экран в строку пишет значения для словаря в формате: коля:9 леша:10 ира:12 (Дополнительная!!!)\n",
        "# распарсите эти значения в словарь с помощью одной строчки кода\n",
        "\n",
        "inp = input()\n",
        "name = str(inp.split(':')[0])\n",
        "numb = int(inp.split(':')[-1])\n",
        "d = {name: numb}\n",
        "print(d)"
      ]
    }
  ],
  "metadata": {
    "colab": {
      "provenance": []
    },
    "kernelspec": {
      "display_name": "Python 3",
      "name": "python3"
    },
    "language_info": {
      "name": "python"
    }
  },
  "nbformat": 4,
  "nbformat_minor": 0
}