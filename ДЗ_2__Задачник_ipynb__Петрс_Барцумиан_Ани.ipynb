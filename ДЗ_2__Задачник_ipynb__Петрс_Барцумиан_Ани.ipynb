{
  "nbformat": 4,
  "nbformat_minor": 0,
  "metadata": {
    "colab": {
      "provenance": []
    },
    "kernelspec": {
      "name": "python3",
      "display_name": "Python 3"
    },
    "language_info": {
      "name": "python"
    }
  },
  "cells": [
    {
      "cell_type": "markdown",
      "source": [
        "В этой практике отрабатываем следующие инструменты:\n",
        "\n",
        "1. Переменные\n",
        "2. Логические и арифметические операторы\n",
        "3. Приведение типов\n",
        "4. Вывод на экран\n",
        "5. Условные операторы"
      ],
      "metadata": {
        "id": "8xKtj7lM7MjS"
      }
    },
    {
      "cell_type": "markdown",
      "source": [
        "### Блок 1\n",
        "\n",
        "Отрабатываем простые вычисления и вывод на экран.\n",
        "В задачах, где требуется вывести ответ на экран, используйте красивый форматированный вывод с помощью f-строк."
      ],
      "metadata": {
        "id": "P679KUGLCXTQ"
      }
    },
    {
      "cell_type": "markdown",
      "source": [
        "*Задача 0 - Пользовательская информация*\n",
        "\n",
        "Запросите у пользователя следующую информацию:\n",
        "1. Имя\n",
        "2. Год рождения\n",
        "\n",
        "С помощью одной единственной функции *принт* выведите на экран следующее приветственное сообщение, на места %ИМЯ%, %ГОД% подставив информацию пользователя.\n",
        "\n"
      ],
      "metadata": {
        "id": "8TrE45HwLfBI"
      }
    },
    {
      "cell_type": "markdown",
      "source": [
        "Вывод должен быть в следующем формате:\n",
        "```\n",
        "Приветствуем тебя\n",
        "%ИМЯ%\n",
        "%ГОД% года рождения\n",
        "```"
      ],
      "metadata": {
        "id": "JBzLvJsizvH2"
      }
    },
    {
      "cell_type": "code",
      "source": [
        "name = \"Ololo\"\n",
        "year = 1900\n",
        "print(f\"Приветствуем тебя, \\n{name}, \\n{year} года рождения\")"
      ],
      "metadata": {
        "id": "XbSStFyTMHlX"
      },
      "execution_count": null,
      "outputs": []
    },
    {
      "cell_type": "markdown",
      "source": [
        "*Задача 1 - Поделить торт*\n",
        "\n",
        "Напишите программу, которая с точностью до двух знаков после запятой будет выводить, сколько грамм торта достанется каждому, исходя из введенной пользователем информации:\n",
        "\n",
        "1. Общий вес торта (может быть дробным числом!)\n",
        "2. Количество людей"
      ],
      "metadata": {
        "id": "2ZwxK-FM8HlO"
      }
    },
    {
      "cell_type": "code",
      "source": [
        "weight = 1.2\n",
        "guests = 9\n",
        "print(f\"{weight/guests:.2f}\")"
      ],
      "metadata": {
        "id": "BjSjxE1MCmZD"
      },
      "execution_count": null,
      "outputs": []
    },
    {
      "cell_type": "markdown",
      "source": [
        "*Задача 2 - Стоимость обедов*\n",
        "\n",
        "Напишите программу, которая рассчитает, сколько денег нужно заплатить за n обедов. Рассчитайте, сколько будет стоить обед, если стоимость одного обеда составляет количество `a` рублей и `b` копеек.\n",
        "\n",
        "Пользователь с экрана вводит одно единственное число n - количество обедов, которое он хочет приобрести"
      ],
      "metadata": {
        "id": "fcwclxcoQEhF"
      }
    },
    {
      "cell_type": "code",
      "source": [
        "a = 100\n",
        "b = 99\n",
        "n = int(input(\"Введите количество обедов: \"))\n",
        "sum = (a * 100 + b) * n\n",
        "sum_rub = sum // 100\n",
        "sum_kop = sum % 100\n",
        "print(f'Итого {sum_rub} рублей {sum_kop} копеек')"
      ],
      "metadata": {
        "id": "mzt1a2MIRcdi"
      },
      "execution_count": null,
      "outputs": []
    },
    {
      "cell_type": "markdown",
      "source": [
        "*Задача 3 - Предыдущее и следующее*\n",
        "\n",
        "Напишите программу, которая будет считывать с экрана одно единственное целое число в переменную `number`.\n",
        "Выведите предыдущее и следующее число после `number`, явно обозначив, какое из них предыдущее, а какое следующее"
      ],
      "metadata": {
        "id": "7KS3fOCa8OPw"
      }
    },
    {
      "cell_type": "code",
      "source": [
        "number = int(input(\"Введите целое число: \"))\n",
        "number_A = number + 1\n",
        "number_B = number - 1\n",
        "print(f\"предыдущее = {number_B}\\nследующее = {number_A}\")"
      ],
      "metadata": {
        "id": "KGVWYOBLBJyA"
      },
      "execution_count": null,
      "outputs": []
    },
    {
      "cell_type": "markdown",
      "source": [
        "*Задача 4 - Следующее нечетное число*\n",
        "\n",
        "Напишите программу, которая будет считывать с экрана одно единственное целое положительное число в переменную `number`.\n",
        "Выведите следующее ближайшее нечетное число к данному. Не используйте оператор if."
      ],
      "metadata": {
        "id": "evXXM0BrKb4B"
      }
    },
    {
      "cell_type": "code",
      "source": [
        "number = int(input(\"Введите целое число: \"))\n",
        "next_odd = (number + 1) + (number % 2)\n",
        "print(f\"следующее ближайшее нечётное число: {next_odd}\")"
      ],
      "metadata": {
        "id": "Qrk2EP4EKt_H"
      },
      "execution_count": null,
      "outputs": []
    },
    {
      "cell_type": "markdown",
      "source": [
        "*Задача 5 - Расчет суммы и произведения чисел*\n",
        "\n",
        "Напишите программу, которая считывает с экрана целое положительное трехзначное число и выводит в результате сумму и произведение цифр этого числа. Явно обозначьте, что есть сумма, а что произведение.\n",
        "\n",
        "Программу нужно написать без использования встроенных функций Python"
      ],
      "metadata": {
        "id": "SO9zT5usBcZ5"
      }
    },
    {
      "cell_type": "code",
      "source": [
        "number = int(input(\"Введите целое трехзначное число: \"))\n",
        "number1 = number // 100\n",
        "number2 = (number // 10) % 10\n",
        "number3 = number % 10\n",
        "sum = number1 + number2 + number3\n",
        "prod = number1 * number2 * number3\n",
        "print(f\"сумма = {sum}\\nпроизведение = {prod}\")"
      ],
      "metadata": {
        "id": "uiB7cbCL5q26"
      },
      "execution_count": null,
      "outputs": []
    },
    {
      "cell_type": "markdown",
      "source": [
        "### Блок 2\n",
        "\n",
        "Отрабатываем условные операторы.\n",
        "В задачах, где требуется вывести ответ на экран, используйте красивый форматированный вывод с помощью f-строк."
      ],
      "metadata": {
        "id": "3WwdpGyhdHg2"
      }
    },
    {
      "cell_type": "markdown",
      "source": [
        "*Задача 0 - Минимум из 2 чисел*\n",
        "\n",
        "Напишите программу, которая выведет минимальное из двух введенных пользователем чисел на экран.\n",
        "\n",
        "В решении не должны использоваться встроенные функции Python min(), max()"
      ],
      "metadata": {
        "id": "CVD_zeOY5Non"
      }
    },
    {
      "cell_type": "code",
      "source": [
        "number1 = int(input(\"Введите любое число: \"))\n",
        "number2 = int(input(\"Введите ещё одно число: \"))\n",
        "if number1<number2:\n",
        "  print(f\"{number1} меньше {number2}\");\n",
        "elif number2<number1:\n",
        "  print(f\"{number2} меньше {number1}\")"
      ],
      "metadata": {
        "id": "l9ljdragdgwL"
      },
      "execution_count": null,
      "outputs": []
    },
    {
      "cell_type": "markdown",
      "source": [
        "*Задача 1 - Опросник*\n",
        "\n",
        "Запросите у пользователя ответ на любой арифметический пример, который придумаете сами. Если пользователь ответил правильно, напишите ему \"молодец\".\n",
        "Если пользователь ответил неверно, напишите \"ответ неверный\".\n",
        "По окончании программы всем пользователям пожелайте удачи."
      ],
      "metadata": {
        "id": "xUqjW6MYADcw"
      }
    },
    {
      "cell_type": "code",
      "source": [
        "arf = int(input(\"2 + 6 = ? \"))\n",
        "if arf == 8:\n",
        "  print(\"Молодец!\")\n",
        "else:\n",
        "  print(\"Неверно\");\n",
        "print(\"Удачи!\")"
      ],
      "metadata": {
        "id": "aLd7Nov_g_Lg"
      },
      "execution_count": null,
      "outputs": []
    },
    {
      "cell_type": "markdown",
      "source": [
        "*Задача 2 - Рассчитать сдачу*\n",
        "\n",
        "Посчитайте сдачу, которую необходимо выдать клиенту, исходя из введенной с консоли информации:\n",
        "\n",
        "1. Сумма, которую должен заплатить клиент\n",
        "2. Количество денег, которое дает клиент\n",
        "\n",
        "Если количество денег, которое дает клиент, меньше, чем необходимая сумма оплаты - вывести, что денег недостаточно."
      ],
      "metadata": {
        "id": "-vq14B-d7dw8"
      }
    },
    {
      "cell_type": "code",
      "source": [
        "cost = int(input(\"сумма к оплате \"))\n",
        "sum = int(input(\"ваши деньги \"))\n",
        "sdacha = sum - cost\n",
        "if sum == cost:\n",
        "  print(\"денег как раз!\");\n",
        "elif cost < sum:\n",
        "  print(f\"ваша сдача {sdacha}\")\n",
        "elif sum < cost:\n",
        "  print(\"денег недостаточно\")"
      ],
      "metadata": {
        "id": "ptiF8UTMetgr"
      },
      "execution_count": null,
      "outputs": []
    },
    {
      "cell_type": "markdown",
      "source": [
        "*Задача 3 - Скидка на копеечку*\n",
        "\n",
        "Модифицируйте код предыдущей задачи следующим образом: если сдача получается дробным числом, округлите вверх до ближайшего целого.\n",
        "\n",
        "Например: сдача 12.3 -> 13"
      ],
      "metadata": {
        "id": "8LyZEBce9vi8"
      }
    },
    {
      "cell_type": "code",
      "source": [
        "import math\n",
        "cost = float(input(\"сумма к оплате \"))\n",
        "sum = float(input(\"ваши деньги \"))\n",
        "sdacha = sum - cost\n",
        "rounded_sdacha = math.ceil(sdacha)\n",
        "if sum == cost:\n",
        "  print(\"денег как раз!\");\n",
        "elif cost < sum:\n",
        "  print(f\"ваша сдача {rounded_sdacha}\")\n",
        "elif sum < cost:\n",
        "  print(\"денег недостаточно\")"
      ],
      "metadata": {
        "id": "ebAcDhxhGNkN"
      },
      "execution_count": null,
      "outputs": []
    },
    {
      "cell_type": "markdown",
      "source": [
        "*Задача 4 - Високосный год*\n",
        "\n",
        "Напишите программу, которая определит, является ли год високосным.\n",
        "Правила определения високосного года (вырезка из Wikipedia):\n",
        "\n",
        "- год, номер которого кратен 400, — високосный;\n",
        "- остальные годы, номер которых кратен 100, — невисокосные (например, годы 1700, 1800, 1900, 2100, 2200, 2300);\n",
        "- остальные годы, номер которых кратен 4, - високосные;\n",
        "- все остальные годы — невисокосные.\n",
        "\n",
        "Для решения задачи используйте конструкцию if-else"
      ],
      "metadata": {
        "id": "eX7N8CLNDS_f"
      }
    },
    {
      "cell_type": "code",
      "source": [
        "year = int(input(\"Введите год: \"))\n",
        "if year % 400 == 0:\n",
        "  print(f\"{year} год високосный\")\n",
        "elif year % 100 == 0:\n",
        "  print(f\"{year} год невисокосный\")\n",
        "elif year % 4 == 0:\n",
        "  print(f\"{year} год високосный\")\n",
        "else:\n",
        "  print(f\"{year} год невисокосный\")\n"
      ],
      "metadata": {
        "id": "4eu1JDytCVcp"
      },
      "execution_count": null,
      "outputs": []
    },
    {
      "cell_type": "markdown",
      "source": [
        "*Задача 6 - Округление*\n",
        "\n",
        "Пользователь через консоль вводит количество конфет, которое нужно поделить между тремя детьми. Напишите программу, которая будет рассчитывать, сколько конфет кому достанется.\n",
        "\n",
        "Если конфеты не делятся поровну, то кому-то из детей можно давать на одну конфету больше или меньше. То есть можно разбить так: 4, 4, 3. Или: 4, 4, 5. Дробить конфеты нельзя.\n",
        "\n",
        "\n",
        "P.S. Вам может быть полезна функция round для округления чисел до ближайшего целого"
      ],
      "metadata": {
        "id": "90m58hH8mJQ7"
      }
    },
    {
      "cell_type": "code",
      "source": [
        "candies = int(input(\"количество конфет: \"))\n",
        "result = round(candies / 3)\n",
        "child_1 = candies - (result * 2)\n",
        "child_2 = candies - child_1 - result\n",
        "child_3 = candies - (child_1 + child_2)\n",
        "if candies % 3 == 0:\n",
        "  print(f\"всем достаётся по {result}!\")\n",
        "else:\n",
        "  print(f\"тебе {child_1}, тебе {child_2}, а тебе {child_3}!\")"
      ],
      "metadata": {
        "id": "09W90t2oAC7L"
      },
      "execution_count": null,
      "outputs": []
    },
    {
      "cell_type": "markdown",
      "source": [
        "*Задача 7 - Минимальное из трех*\n",
        "\n",
        "Напишите программу, которая выведет минимальное из трех введенных пользователем чисел на экран.\n",
        "\n",
        "В решении не должны использоваться встроенные функции Python min(), max()"
      ],
      "metadata": {
        "id": "0HcdIqbWmsb-"
      }
    },
    {
      "cell_type": "code",
      "source": [
        "num1 = float(input(\"введите любое число: \"))\n",
        "num2 = float(input(\"введите ещё одно число: \"))\n",
        "num3 = float(input(\"и ещё одно: \"))\n",
        "if num1 <= num2 and num1 <= num3:\n",
        "  print(f\"минимальное из трёх введённых чисел = {num1}\")\n",
        "elif num2 <= num1 and num2 <= num3:\n",
        "  print(f\"минимальное из трёх введённых чисел = {num2}\")\n",
        "elif num3 <= num1 and num3 <= num2:\n",
        "  print(f\"минимальное из трёх введённых чисел = {num3}\")"
      ],
      "metadata": {
        "id": "oCU3YfRsAjMy"
      },
      "execution_count": null,
      "outputs": []
    },
    {
      "cell_type": "markdown",
      "source": [
        "*Задача 8 - Одна программа двумя способами*\n",
        "\n",
        "Напишите программу, которая считывает с консоли значение, введенное с консоли. Если пользователь ничего не ввел, она выводит: \"Ничего не получено\". Если что-то получено, то программа просто выводит это значение на экран.\n",
        "\n",
        "Напишите две реализации программы:\n",
        "- с помощью if\n",
        "- с помощью or"
      ],
      "metadata": {
        "id": "gQ2392OnpCrd"
      }
    },
    {
      "cell_type": "code",
      "source": [
        "console = input(\"\")\n",
        "if console == \"\":\n",
        "  print(\"ничего не получено\")\n",
        "else:\n",
        "  print(console)"
      ],
      "metadata": {
        "id": "EfYxLe-Om22f"
      },
      "execution_count": null,
      "outputs": []
    },
    {
      "cell_type": "code",
      "source": [
        "console = input(\"\") or \"ничего не получено \"\n",
        "print(console)"
      ],
      "metadata": {
        "id": "_8BI8LVm_8J_"
      },
      "execution_count": null,
      "outputs": []
    },
    {
      "cell_type": "markdown",
      "source": [
        "*Задача 9 - Сортировка*\n",
        "\n",
        "Напишите программу, которая считывает с экрана три числа и сортирует их в порядке неубывания"
      ],
      "metadata": {
        "id": "LOqCkJRnyfkF"
      }
    },
    {
      "cell_type": "code",
      "source": [
        "num1 = float(input(\"\"))\n",
        "num2 = float(input(\"\"))\n",
        "num3 = float(input(\"\"))\n",
        "sorted([num1, num2, num3])"
      ],
      "metadata": {
        "id": "ZPzlvbFoye8B"
      },
      "execution_count": null,
      "outputs": []
    },
    {
      "cell_type": "markdown",
      "source": [
        "*Задача Дополнительная!*\n",
        "\n",
        "Пользователь вводит два числа, которые нужно поделить друг на друга.\n",
        "Напишите программу, которая поделит данные два числа.\n",
        "Если вдруг в знаменателе окажется 0 и деление произвести нельзя, выведите в результате 0\n",
        "\n",
        "Не используйте конструкции if."
      ],
      "metadata": {
        "id": "1oE54ruvuXYz"
      }
    },
    {
      "cell_type": "code",
      "source": [
        "num1 = float(input(\"введите первое число >> \"))\n",
        "num2 = float(input(\"введите второе число >> \"))\n",
        "div_result = num2 and num1 / num2\n",
        "print(f\"{div_result}\")"
      ],
      "metadata": {
        "id": "QJR_haLfua1E"
      },
      "execution_count": null,
      "outputs": []
    },
    {
      "cell_type": "markdown",
      "source": [
        "### Блок 3\n",
        "\n",
        "Работа со строками"
      ],
      "metadata": {
        "id": "HChIds4FFaAC"
      }
    },
    {
      "cell_type": "code",
      "source": [
        "# приведение в нижний регистр\n",
        "'ПРИВЕТ'.lower()"
      ],
      "metadata": {
        "colab": {
          "base_uri": "https://localhost:8080/",
          "height": 35
        },
        "id": "N2QlbECauXp_",
        "outputId": "ec4d4c3a-bd9f-4851-8026-b82f6a860d2d"
      },
      "execution_count": null,
      "outputs": [
        {
          "output_type": "execute_result",
          "data": {
            "text/plain": [
              "'привет'"
            ],
            "application/vnd.google.colaboratory.intrinsic+json": {
              "type": "string"
            }
          },
          "metadata": {},
          "execution_count": 1
        }
      ]
    },
    {
      "cell_type": "code",
      "source": [
        "# приведение в верхний регистр\n",
        "'Привет'.upper()"
      ],
      "metadata": {
        "colab": {
          "base_uri": "https://localhost:8080/",
          "height": 35
        },
        "id": "Xhoej5buUUcr",
        "outputId": "5fd2a315-1bf5-4d63-e136-4c0af160aa8e"
      },
      "execution_count": null,
      "outputs": [
        {
          "output_type": "execute_result",
          "data": {
            "text/plain": [
              "'ПРИВЕТ'"
            ],
            "application/vnd.google.colaboratory.intrinsic+json": {
              "type": "string"
            }
          },
          "metadata": {},
          "execution_count": 2
        }
      ]
    },
    {
      "cell_type": "code",
      "source": [
        "# нахождение подстроки в строке\n",
        "'здраствуйте! привет! как дела?'.find('привет')"
      ],
      "metadata": {
        "colab": {
          "base_uri": "https://localhost:8080/"
        },
        "id": "6wvr51S0UZUN",
        "outputId": "b3c54795-5eac-428f-d614-7f827502a6d5"
      },
      "execution_count": null,
      "outputs": [
        {
          "output_type": "execute_result",
          "data": {
            "text/plain": [
              "13"
            ]
          },
          "metadata": {},
          "execution_count": 1
        }
      ]
    },
    {
      "cell_type": "code",
      "source": [
        "# нахождение подстроки в строке\n",
        "'привет! как дела?'.find('куку')"
      ],
      "metadata": {
        "colab": {
          "base_uri": "https://localhost:8080/"
        },
        "id": "R86hlGTLUmZJ",
        "outputId": "c9210593-38c5-4cc9-ddd9-0ef42c23378e"
      },
      "execution_count": null,
      "outputs": [
        {
          "output_type": "execute_result",
          "data": {
            "text/plain": [
              "-1"
            ]
          },
          "metadata": {},
          "execution_count": 4
        }
      ]
    },
    {
      "cell_type": "code",
      "source": [
        "# замена значений в строке\n",
        "'<<привет'.replace('<<', '')"
      ],
      "metadata": {
        "colab": {
          "base_uri": "https://localhost:8080/",
          "height": 35
        },
        "id": "4F3kGz0kUsDl",
        "outputId": "ec3c4668-7fda-4b39-93e7-529e2809478a"
      },
      "execution_count": null,
      "outputs": [
        {
          "output_type": "execute_result",
          "data": {
            "text/plain": [
              "'привет'"
            ],
            "application/vnd.google.colaboratory.intrinsic+json": {
              "type": "string"
            }
          },
          "metadata": {},
          "execution_count": 25
        }
      ]
    },
    {
      "cell_type": "code",
      "source": [
        "'как дела' < 'привет'"
      ],
      "metadata": {
        "colab": {
          "base_uri": "https://localhost:8080/"
        },
        "id": "JgRLB0ogYkIQ",
        "outputId": "35ddafa3-ec98-4ec4-bacb-e1cbe8364663"
      },
      "execution_count": null,
      "outputs": [
        {
          "output_type": "execute_result",
          "data": {
            "text/plain": [
              "True"
            ]
          },
          "metadata": {},
          "execution_count": 3
        }
      ]
    },
    {
      "cell_type": "code",
      "source": [
        "# Функция Python символ и возвращает его код в Юникоде\n",
        "ord('п')"
      ],
      "metadata": {
        "colab": {
          "base_uri": "https://localhost:8080/"
        },
        "id": "7vk7NBWfYpw2",
        "outputId": "c0092273-0323-43d7-f70e-851f21f86617"
      },
      "execution_count": null,
      "outputs": [
        {
          "output_type": "execute_result",
          "data": {
            "text/plain": [
              "1087"
            ]
          },
          "metadata": {},
          "execution_count": 14
        }
      ]
    },
    {
      "cell_type": "code",
      "source": [
        "# обратно\n",
        "chr(1087)"
      ],
      "metadata": {
        "colab": {
          "base_uri": "https://localhost:8080/",
          "height": 35
        },
        "id": "eLS7gwJiZGRQ",
        "outputId": "96730d0b-26e4-4373-bf7a-1c28d425be9f"
      },
      "execution_count": null,
      "outputs": [
        {
          "output_type": "execute_result",
          "data": {
            "text/plain": [
              "'п'"
            ],
            "application/vnd.google.colaboratory.intrinsic+json": {
              "type": "string"
            }
          },
          "metadata": {},
          "execution_count": 15
        }
      ]
    },
    {
      "cell_type": "code",
      "source": [
        "chr(1088)"
      ],
      "metadata": {
        "id": "EuOgDvAMPldp",
        "outputId": "99b580be-46d8-4d7f-e80e-527b23700d73",
        "colab": {
          "base_uri": "https://localhost:8080/",
          "height": 35
        }
      },
      "execution_count": null,
      "outputs": [
        {
          "output_type": "execute_result",
          "data": {
            "text/plain": [
              "'р'"
            ],
            "application/vnd.google.colaboratory.intrinsic+json": {
              "type": "string"
            }
          },
          "metadata": {},
          "execution_count": 4
        }
      ]
    },
    {
      "cell_type": "markdown",
      "source": [
        "*Задача 0 - Диалог*\n",
        "\n",
        "Напишите программу, которая корректно умеет отвечать на следующие реплики:\n",
        "- привет\n",
        "- как дела\n",
        "- какая погода\n",
        "\n",
        "Заметьте, пользователь может писать эти реплики большими/маленькими или большими и маленькими буквами. Он также может ставить лишние знаки препинания. Тем не менее реплику надо все равно распознавать и давать на нее ответ."
      ],
      "metadata": {
        "id": "B-oV_RErVQOn"
      }
    },
    {
      "cell_type": "code",
      "source": [
        "import re\n",
        "inner_word = str(input(\"\"))\n",
        "def process_word(word):\n",
        "  word = re.sub(r'[^\\w\\s]', \"\", word.lower())\n",
        "  if word == \"привет\":\n",
        "    return \"привет!\"\n",
        "  elif word == \"как дела\":\n",
        "    return \"как у всех!\"\n",
        "  elif word == \"какая погода\":\n",
        "    return \"мороз и солнце, день чудесный!\"\n",
        "\n",
        "result = process_word(inner_word)\n",
        "print(result)"
      ],
      "metadata": {
        "id": "wfM4XfEmWDpB"
      },
      "execution_count": null,
      "outputs": []
    },
    {
      "cell_type": "markdown",
      "source": [
        "*Задача 1 - Алфавит*\n",
        "\n",
        "Напишите программу, которая будет выводить следующую букву после введенной в строке ввода. Если в строке ввода введена не одна буква, вывести сообщение о том, что пользователь ошибся, если введен символ - выдать сообщение о том, что введен символ."
      ],
      "metadata": {
        "id": "ZwiKtIhQWEW5"
      }
    },
    {
      "cell_type": "code",
      "source": [
        "inner_letter = str(input(\"\"))\n",
        "if len(inner_letter) != 1:\n",
        "    print(\"ошибка. пожалуйста, введите только одну букву.\")\n",
        "elif not inner_letter.isalpha():\n",
        "    print(\"вы ввели символ. пожалуйста, введите букву.\")\n",
        "elif inner_letter == \"е\":\n",
        "    letter = inner_letter.lower()\n",
        "    next_letter = \"ё\"\n",
        "    print(\"Следующая буква после\", letter.upper(), \"-->\" , next_letter.upper())\n",
        "elif inner_letter == \"ё\":\n",
        "    letter = inner_letter.lower()\n",
        "    next_letter = \"ж\"\n",
        "    print(\"Следующая буква после\", letter.upper(), \"-->\" , next_letter.upper())\n",
        "elif inner_letter == \"я\":\n",
        "    print(\"это последняя буква алфавита\")\n",
        "else:\n",
        "    letter = inner_letter.lower()\n",
        "    next_letter = chr (ord (letter) + 1)\n",
        "    print(\"Следующая буква после\", letter.upper(), \"-->\" , next_letter.upper())"
      ],
      "metadata": {
        "id": "E-9ilXgUYjRA",
        "colab": {
          "base_uri": "https://localhost:8080/"
        },
        "outputId": "d026a938-ca36-4e14-e9e6-45f0de264ff3"
      },
      "execution_count": 11,
      "outputs": [
        {
          "output_type": "stream",
          "name": "stdout",
          "text": [
            "ь\n",
            "Следующая буква после Ь --> Э\n"
          ]
        }
      ]
    },
    {
      "cell_type": "markdown",
      "source": [
        "ДЗ:\n",
        "\n",
        "Пройти задачи на Яндекс Контесте\n",
        "https://new.contest.yandex.ru/41233/statistics"
      ],
      "metadata": {
        "id": "pG-N3oPDS3EE"
      }
    },
    {
      "cell_type": "code",
      "source": [],
      "metadata": {
        "id": "jIi_vGvdS-Ew"
      },
      "execution_count": null,
      "outputs": []
    }
  ]
}