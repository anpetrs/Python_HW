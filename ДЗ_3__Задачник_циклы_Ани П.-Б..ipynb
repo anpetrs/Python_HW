{
  "nbformat": 4,
  "nbformat_minor": 0,
  "metadata": {
    "colab": {
      "provenance": []
    },
    "kernelspec": {
      "name": "python3",
      "display_name": "Python 3"
    },
    "language_info": {
      "name": "python"
    }
  },
  "cells": [
    {
      "cell_type": "markdown",
      "source": [
        "В этой практике отрабатываем следующие инструменты:\n",
        "\n",
        "- Циклы\n",
        "- Циклы + условные операторы\n",
        "- Обработку исключений"
      ],
      "metadata": {
        "id": "BYcdPThcHmcw"
      }
    },
    {
      "cell_type": "markdown",
      "source": [
        "### Блок 1\n",
        "\n",
        "Отрабатываем умение пользоваться циклами. В этом блоке задачи будут нацелены на использование только конструкций циклов `while`, `for`, конструкции `if-else` использовать нельзя.\n"
      ],
      "metadata": {
        "id": "f1vm1gpfHwEM"
      }
    },
    {
      "cell_type": "markdown",
      "source": [
        "*Задача 0 - Используем Range*\n",
        "\n",
        "Напишите программу, которая будет считывать с консоли два числа `a` и `b`.\n",
        "Далее выведите все числа от `a` до `b` включительно."
      ],
      "metadata": {
        "id": "feXi-pySJgN-"
      }
    },
    {
      "cell_type": "code",
      "execution_count": null,
      "metadata": {
        "colab": {
          "base_uri": "https://localhost:8080/"
        },
        "id": "WLZpX0ubHfu1",
        "outputId": "b810b738-dd1d-4e69-990e-85ff3464ab27"
      },
      "outputs": [
        {
          "output_type": "stream",
          "name": "stdout",
          "text": [
            "1\n",
            "9\n",
            "1\n",
            "2\n",
            "3\n",
            "4\n",
            "5\n",
            "6\n",
            "7\n",
            "8\n",
            "9\n"
          ]
        }
      ],
      "source": [
        "a = int(input())\n",
        "b = int(input())\n",
        "for i in range(a, b):\n",
        "  print(i)\n",
        "print(b)"
      ]
    },
    {
      "cell_type": "markdown",
      "source": [
        "*Задача 1 -  Квадратный корень*\n",
        "\n",
        "Напишите программу, которая будет считывать с консоли одно единственное число `b`.\n",
        "\n",
        "Выведите все квадратные корни чисел от 1 до `b` (не включительно) с точностью до двух знаков после запятой. Соблюдайте формат вывода, приведенный в примере."
      ],
      "metadata": {
        "id": "PMFNe-V1RFvZ"
      }
    },
    {
      "cell_type": "code",
      "source": [
        "b = int(input(\"Введите число b >> \"))\n",
        "\n",
        "for i in range(0, b):\n",
        "  c = i ** (0.5)\n",
        "  print(f\"квадратный корень числа {i} = {c:.2f}\")\n"
      ],
      "metadata": {
        "colab": {
          "base_uri": "https://localhost:8080/"
        },
        "id": "0ByT8qoYS4VD",
        "outputId": "abb7bfda-e143-4daa-d9f7-8c7652f26c54"
      },
      "execution_count": 54,
      "outputs": [
        {
          "output_type": "stream",
          "name": "stdout",
          "text": [
            "Введите число b >> 5\n",
            "квадратный корень числа 0 = 0.00\n",
            "квадратный корень числа 1 = 1.00\n",
            "квадратный корень числа 2 = 1.41\n",
            "квадратный корень числа 3 = 1.73\n",
            "квадратный корень числа 4 = 2.00\n"
          ]
        }
      ]
    },
    {
      "cell_type": "markdown",
      "source": [
        "*Задача 2 -  Делители*\n",
        "\n",
        "Напишите программу, которая будет считывать с консоли одно единственное число `N`.\n",
        "\n",
        "Выведите в строку первые N положительных чисел, делящихся на 3 нацело."
      ],
      "metadata": {
        "id": "CDHdDLDRyW9Z"
      }
    },
    {
      "cell_type": "code",
      "source": [
        "N = int(input(\"Введите число N >>  \"))\n",
        "for i in range(1, N + 1):\n",
        "  print(i * 3, end=' ')"
      ],
      "metadata": {
        "colab": {
          "base_uri": "https://localhost:8080/"
        },
        "id": "J71Nxy1kyqav",
        "outputId": "a6c4d5b8-56f6-4f71-eed8-6a6c7153e0cd"
      },
      "execution_count": null,
      "outputs": [
        {
          "output_type": "stream",
          "name": "stdout",
          "text": [
            "Введите число N >>  6\n",
            "3 6 9 12 15 18 "
          ]
        }
      ]
    },
    {
      "cell_type": "markdown",
      "source": [
        "*Задача 3 - Сумма чисел до N*\n",
        "\n",
        "Пользователь вводит положительное число N. Найдите сумму чисел от 1 до N включительно.\n"
      ],
      "metadata": {
        "id": "L6NKRSEZLPT5"
      }
    },
    {
      "cell_type": "code",
      "source": [
        "N = int(input())\n",
        "summa = 0\n",
        "last_summa = 0\n",
        "\n",
        "for N in range(1, N + 1):\n",
        "  summa += N\n",
        "  last_summa = summa\n",
        "print(f\"сумма чисел от 1 до {N} = {last_summa}\")"
      ],
      "metadata": {
        "colab": {
          "base_uri": "https://localhost:8080/"
        },
        "id": "afQU3XuQLAs2",
        "outputId": "6ae1d015-9db1-4f35-c673-0fb89749293d"
      },
      "execution_count": null,
      "outputs": [
        {
          "output_type": "stream",
          "name": "stdout",
          "text": [
            "7\n",
            "сумма чисел от 1 до 7 = 28\n"
          ]
        }
      ]
    },
    {
      "cell_type": "markdown",
      "source": [
        "*Задача 4 - Сумма введенных чисел*\n",
        "\n",
        "Напишите программу, которая будет суммировать все значения, введенные пользователем, пока не будет введен 0.\n"
      ],
      "metadata": {
        "id": "O-j9AYRvM7gQ"
      }
    },
    {
      "cell_type": "code",
      "source": [
        "flag = True\n",
        "summa = 0\n",
        "while flag:\n",
        "  num = int(input(\"Введите число, которое хотите просуммировать >> \"))\n",
        "  if num == 0:\n",
        "    print(f\"сумма введённых чисел = {summa}\")\n",
        "    break\n",
        "  summa += num"
      ],
      "metadata": {
        "colab": {
          "base_uri": "https://localhost:8080/"
        },
        "id": "8W18rN7iMRB7",
        "outputId": "baab4946-d642-4db7-ce55-72141d4fbe5c"
      },
      "execution_count": null,
      "outputs": [
        {
          "output_type": "stream",
          "name": "stdout",
          "text": [
            "Введите число, которое хотите просуммировать >> 1\n",
            "Введите число, которое хотите просуммировать >> 2\n",
            "Введите число, которое хотите просуммировать >> 1\n",
            "Введите число, которое хотите просуммировать >> 0\n",
            "сумма введённых чисел = 4\n"
          ]
        }
      ]
    },
    {
      "cell_type": "markdown",
      "source": [
        "*Задача 5 - Проценты по вкладу*\n",
        "\n",
        "Пользователь вводит условия по вкладу:\n",
        "1. Сумму, которую он хочет внести (`initial_money` - целое число)\n",
        "2. Процентную ставку за год (от 1 до 100 - целое число)\n",
        "3. Сумму, которую он хочет в итоге получить (`target_money` - целое число)\n",
        "\n",
        "Ваша задача рассчитать, за какое наименьшее количество лет при заданной процентной ставке у него на счету образуется сумма не меньше чем `target_money`.\n",
        "\n",
        "В результате выведите сколько лет понадобится чтобы скопить заданную сумму. Также выведите точное количество денег, которое будет у него на счету через рассчитанное количество лет"
      ],
      "metadata": {
        "id": "3LJoxGj82fsH"
      }
    },
    {
      "cell_type": "code",
      "source": [
        "initial_money = int(input(\"введите начальную сумму >> \"))\n",
        "percent = int(input(\"введите процентную ставку от 1 до 100 >> \")) / 100\n",
        "target_money = int(input(\"введите желаемую итоговую сумму >> \"))\n",
        "summa = initial_money\n",
        "year = 0\n",
        "\n",
        "while summa < target_money:\n",
        "    summa += summa * percent\n",
        "    year += 1\n",
        "if year > 0 and year <= 1:\n",
        "  print(f\"через один год у вас на счету будет {summa:.2f}\")\n",
        "elif year >= 2 and year < 5:\n",
        "  print(f\"через {year} года у вас на счету будет {summa:.2f}\")\n",
        "elif year >= 5:\n",
        "  print(f\"через {year} лет у вас на счету будет {summa:.2f}\")"
      ],
      "metadata": {
        "colab": {
          "base_uri": "https://localhost:8080/"
        },
        "id": "_51Y0Seo3F9c",
        "outputId": "aeff3ab7-340a-4442-cdeb-f42f690066c0"
      },
      "execution_count": null,
      "outputs": [
        {
          "output_type": "stream",
          "name": "stdout",
          "text": [
            "введите начальную сумму >> 100000\n",
            "введите процентную ставку от 1 до 100 >> 5\n",
            "введите желаемую итоговую сумму >> 1000000\n",
            "через 48 лет у вас на счету будет 1040126.96\n"
          ]
        }
      ]
    },
    {
      "cell_type": "markdown",
      "source": [
        "### Блок 2\n",
        "\n",
        "Отрабатываем умение алгоритмизировать с помощью циклов и условных операторов. А также принимать решение о их применимости в рамках заданной задачи.\n",
        "Также в каких то задачах может пригодится умение пользоваться `break`, `continue`."
      ],
      "metadata": {
        "id": "nbo339A-z4ys"
      }
    },
    {
      "cell_type": "markdown",
      "source": [
        "*Задача 0 - Наименьший делитель*\n",
        "\n",
        "Пользователь вводит целое число, не меньшее 2. Выведите его наименьший натуральный делитель, отличный от 1."
      ],
      "metadata": {
        "id": "SkwzoZGSWBVy"
      }
    },
    {
      "cell_type": "code",
      "source": [
        "num = int(input(\"Введите целое число = \"))\n",
        "\n",
        "for i in range(2, num + 1):\n",
        "  if num % i == 0:\n",
        "    print(f\"наименьший натуральный делитель = {i}\")\n",
        "    break"
      ],
      "metadata": {
        "colab": {
          "base_uri": "https://localhost:8080/"
        },
        "id": "jYS8rT211L1G",
        "outputId": "4473832a-5f1d-4586-f6b4-67abb5c4d2de"
      },
      "execution_count": null,
      "outputs": [
        {
          "output_type": "stream",
          "name": "stdout",
          "text": [
            "Введите целое число = 46\n",
            "наименьший натуральный делитель = 2\n"
          ]
        }
      ]
    },
    {
      "cell_type": "markdown",
      "source": [
        "*Задача 1 - Максимум чисел*\n",
        "\n",
        "Пользователь вводит 10 ЛЮБЫХ чисел через консоль. Найдите максимальное число, введенное пользователем на экран.\n",
        "Не используйте встроенную функцию `max`."
      ],
      "metadata": {
        "id": "8s3gbRwGd0lw"
      }
    },
    {
      "cell_type": "code",
      "source": [
        "num_inputs = 10\n",
        "max_num = float('-inf')\n",
        "\n",
        "for i in range(num_inputs):\n",
        "  user_input = float(input(\"Введите любое число >> \"))\n",
        "  if user_input > max_num:\n",
        "    max_num = user_input\n",
        "\n",
        "print(f\"Максимальное число = {max_num}\")"
      ],
      "metadata": {
        "colab": {
          "base_uri": "https://localhost:8080/"
        },
        "id": "nowhGVIBlPUi",
        "outputId": "0f3c2b45-0f22-4d47-f651-058a8e85a8bd"
      },
      "execution_count": null,
      "outputs": [
        {
          "output_type": "stream",
          "name": "stdout",
          "text": [
            "Введите любое число >> 0\n",
            "Введите любое число >> 1\n",
            "Введите любое число >> -2\n",
            "Введите любое число >> 3.42\n",
            "Введите любое число >> 2345\n",
            "Введите любое число >> -543\n",
            "Введите любое число >> 234.432134\n",
            "Введите любое число >> 4\n",
            "Введите любое число >> -4\n",
            "Введите любое число >> 1234\n",
            "Максимальное число = 2345.0\n"
          ]
        }
      ]
    },
    {
      "cell_type": "markdown",
      "source": [
        "*Задача 2 - Числа с заданной цифрой*\n",
        "\n",
        "Пользователь вводит число от 0 до 9 на экран.\n",
        "Выведите все числа от 0 до 100, в которых встречается введенная пользователем цифра."
      ],
      "metadata": {
        "id": "nnvpRR6X6JJT"
      }
    },
    {
      "cell_type": "code",
      "source": [
        "num = int(input(\"введи число от 0 до 9 >> \"))\n",
        "\n",
        "if num < 0 or num > 9:\n",
        "    print(\"Число должно быть от 0 до 9\")\n",
        "else:\n",
        "  for i in range(101):\n",
        "    if str(num) in str(i):\n",
        "      print(i)"
      ],
      "metadata": {
        "colab": {
          "base_uri": "https://localhost:8080/"
        },
        "id": "QotLXVmgXQYa",
        "outputId": "f5386be3-56b2-4a8c-f8a1-b814cf598fcb"
      },
      "execution_count": null,
      "outputs": [
        {
          "output_type": "stream",
          "name": "stdout",
          "text": [
            "введи число от 0 до 9 >> 6\n",
            "6\n",
            "16\n",
            "26\n",
            "36\n",
            "46\n",
            "56\n",
            "60\n",
            "61\n",
            "62\n",
            "63\n",
            "64\n",
            "65\n",
            "66\n",
            "67\n",
            "68\n",
            "69\n",
            "76\n",
            "86\n",
            "96\n"
          ]
        }
      ]
    },
    {
      "cell_type": "markdown",
      "source": [
        "*Задача 3 - Число наоборот*\n",
        "\n",
        "Напишите программу, которая считывает с экрана целое положительное число любой длины и выводит его на экран в обратном порядке."
      ],
      "metadata": {
        "id": "O7jDbstGPFww"
      }
    },
    {
      "cell_type": "code",
      "source": [
        "num = input(\"введите число >> \")\n",
        "reversed_num = num[::-1]\n",
        "print(f\"число наоборот: {reversed_num}\")"
      ],
      "metadata": {
        "colab": {
          "base_uri": "https://localhost:8080/"
        },
        "id": "cZkQ2FiWOsVz",
        "outputId": "67ee23b1-f727-4430-af71-bff4f995046c"
      },
      "execution_count": null,
      "outputs": [
        {
          "output_type": "stream",
          "name": "stdout",
          "text": [
            "введите число >> 987654321\n",
            "число наоборот: 123456789\n"
          ]
        }
      ]
    },
    {
      "cell_type": "markdown",
      "source": [
        "Задача 4 - Лесенка\n",
        "\n",
        "Пользователь вводит цифру от 1 до 9 на экран в переменную `n`. Выведите лесенку из n ступенек, где i-я ступенька состоит из чисел от 1 до i без пробелов."
      ],
      "metadata": {
        "id": "vyKTOqjYYGAJ"
      }
    },
    {
      "cell_type": "code",
      "source": [
        "num = int(input(\"введите цифру >> \"))\n",
        "\n",
        "if num < 1 and num > 9:\n",
        "  print(\"введите число от 1 до 9\")\n",
        "else:\n",
        "  for i in range(1, num + 1):\n",
        "    for j in range(1, i + 1):\n",
        "      print(j, end='')\n",
        "    print()"
      ],
      "metadata": {
        "colab": {
          "base_uri": "https://localhost:8080/"
        },
        "id": "7ZV22zEzY2Jp",
        "outputId": "56deef03-322c-45ec-fa4c-adaeee5fe698"
      },
      "execution_count": null,
      "outputs": [
        {
          "output_type": "stream",
          "name": "stdout",
          "text": [
            "введите цифру >> 4\n",
            "1\n",
            "12\n",
            "123\n",
            "1234\n"
          ]
        }
      ]
    },
    {
      "cell_type": "markdown",
      "source": [
        "*Задача 5 - Угадать число*\n",
        "\n",
        "Пользователь загадывает целое число от 0 до 100.\n",
        "Нужно написать программу, которая не более чем за 5 попыток попытается угадать данное число.\n",
        "\n",
        "Для того, чтобы угадать число воспользуйтесь функцией генерацией случайного числа random.randint(a,b) из примера ячейки ниже.\n",
        "\n",
        "Пользователь может давать обратную связь на предложенное программой число, через строку ввода. Он может ввести одну из трех фраз:\n",
        "- угадано (число угадано, можно завершать программу)\n",
        "- больше (загаданное число больше, чем текущее)\n",
        "- меньше (загаданное число меньше, чем текущее)\n"
      ],
      "metadata": {
        "id": "rzPBjwOvGRu4"
      }
    },
    {
      "cell_type": "code",
      "source": [
        "# импорт пишем один раз за программу\n",
        "import random\n",
        "# генерирует случайное целое число от 100(включительно) до 200(включительно)\n",
        "random.randint(100,200)"
      ],
      "metadata": {
        "colab": {
          "base_uri": "https://localhost:8080/"
        },
        "id": "pQs05dnh_Cdy",
        "outputId": "8be264da-8827-40ca-867e-c834ce586eb6"
      },
      "execution_count": null,
      "outputs": [
        {
          "output_type": "execute_result",
          "data": {
            "text/plain": [
              "103"
            ]
          },
          "metadata": {},
          "execution_count": 33
        }
      ]
    },
    {
      "cell_type": "code",
      "source": [
        "# генерирует случайное целое число от 1(включительно) до 2(включительно)\n",
        "random.randint(1,2)"
      ],
      "metadata": {
        "colab": {
          "base_uri": "https://localhost:8080/"
        },
        "id": "JGwD8JBKGflP",
        "outputId": "afd16244-7d14-4307-b7ae-43bc5e8c6438"
      },
      "execution_count": null,
      "outputs": [
        {
          "output_type": "execute_result",
          "data": {
            "text/plain": [
              "1"
            ]
          },
          "metadata": {},
          "execution_count": 34
        }
      ]
    },
    {
      "cell_type": "code",
      "source": [
        "import random\n",
        "\n",
        "def guess_number():\n",
        "    attempts = 5\n",
        "    low = 0\n",
        "    high = 100\n",
        "\n",
        "    while attempts > 0:\n",
        "        guess = random.randint(low, high)\n",
        "        feedback = input(f\"это число {guess}? Введите 'угадано', 'больше' или 'меньше': \")\n",
        "\n",
        "        if feedback == 'угадано':\n",
        "            print(\"Ура!\")\n",
        "            return\n",
        "\n",
        "        elif feedback == 'больше':\n",
        "            low = guess + 1\n",
        "\n",
        "        elif feedback == 'меньше':\n",
        "            high = guess - 1\n",
        "\n",
        "        attempts -= 1\n",
        "\n",
        "guess_number()"
      ],
      "metadata": {
        "colab": {
          "base_uri": "https://localhost:8080/"
        },
        "id": "OqLnI4znGhzs",
        "outputId": "beda5830-369d-46ca-9c61-a5820a96d3f1"
      },
      "execution_count": null,
      "outputs": [
        {
          "name": "stdout",
          "output_type": "stream",
          "text": [
            "это число 37? Введите 'угадано', 'больше' или 'меньше': больше\n",
            "это число 83? Введите 'угадано', 'больше' или 'меньше': меньше\n",
            "это число 50? Введите 'угадано', 'больше' или 'меньше': больше\n",
            "это число 59? Введите 'угадано', 'больше' или 'меньше': меньше\n",
            "это число 52? Введите 'угадано', 'больше' или 'меньше': больше\n"
          ]
        }
      ]
    },
    {
      "cell_type": "markdown",
      "source": [
        "*Задача 6 - Модификация угадайки*\n",
        "\n",
        "Модифицируйте предыдущую программу:\n",
        "Если количество попыток закончилось, и число до сих пор не угадано - выведите сообщение: \"Число не удалось угадать!\""
      ],
      "metadata": {
        "id": "30tQGk7RLOnU"
      }
    },
    {
      "cell_type": "code",
      "source": [
        "import random\n",
        "\n",
        "def guess_number():\n",
        "    attempts = 5\n",
        "    low = 0\n",
        "    high = 100\n",
        "\n",
        "    while attempts > 0:\n",
        "        guess = random.randint(low, high)\n",
        "        feedback = input(f\"это число {guess}? Введите 'угадано', 'больше' или 'меньше': \")\n",
        "\n",
        "        if feedback == 'угадано':\n",
        "            print(\"Ура!\")\n",
        "            return\n",
        "\n",
        "        elif feedback == 'больше':\n",
        "            low = guess + 1\n",
        "\n",
        "        elif feedback == 'меньше':\n",
        "            high = guess - 1\n",
        "\n",
        "        attempts -= 1\n",
        "\n",
        "    print(\"Число не удалось угадать!\")\n",
        "\n",
        "guess_number()"
      ],
      "metadata": {
        "id": "pDLT7f3UKQBZ"
      },
      "execution_count": null,
      "outputs": []
    },
    {
      "cell_type": "markdown",
      "source": [],
      "metadata": {
        "id": "_tS8bc7gTOmV"
      }
    },
    {
      "cell_type": "markdown",
      "source": [
        "*Задача 7 - Тестирование* (повышенной сложности!)\n",
        "\n",
        "Напишите программу, которая будет генерировать вопросы на сложение двух чисел с помощью функции random.randint. Пользователь должен ввести верный ответ на данный пример.\n",
        "- Если пользователь ввел неверный ответ, сообщить ему что ответ неправильный и заново попросить ввести ответ на заданный пример\n",
        "- Если пользователь ввел ответ верный, сгенерировать следующий пример\n",
        "- Если пользователь ввел \"конец\" - вывести \"Приходите еще \" и закончить программу\n",
        "\n",
        "\n",
        "P.S. Для решении этой задачи можно использовать цикл в цикле"
      ],
      "metadata": {
        "id": "IHuqUU-iNM7T"
      }
    },
    {
      "cell_type": "code",
      "source": [
        "import random\n",
        "\n",
        "flag = True\n",
        "while flag:\n",
        "  num1 = random.randint(3, 15)\n",
        "  num2 = random.randint(16, 99)\n",
        "  num3 = num1 + num2\n",
        "  while flag:\n",
        "    q = input(f\"сколько будет {num1} + {num2} = ?\")\n",
        "    if q == \"конец\":\n",
        "      print(\"Приходи ещё!\")\n",
        "      flag = False\n",
        "      break\n",
        "    elif int(q) != num3:\n",
        "      print(f\"ответ неверный, попробуй ещё!\")\n",
        "    elif int(q) == num3:\n",
        "      print(f\"отлично! давай ещё!\")\n",
        "      break"
      ],
      "metadata": {
        "colab": {
          "base_uri": "https://localhost:8080/"
        },
        "id": "ZKufmCj6M67S",
        "outputId": "a505cf03-63e0-41d0-947e-d7be56210c4f"
      },
      "execution_count": null,
      "outputs": [
        {
          "output_type": "stream",
          "name": "stdout",
          "text": [
            "сколько будет 12 + 94 = ?9\n",
            "ответ неверный, попробуй ещё!\n",
            "сколько будет 12 + 94 = ?106\n",
            "отлично! давай ещё!\n",
            "сколько будет 7 + 83 = ?90\n",
            "отлично! давай ещё!\n",
            "сколько будет 3 + 81 = ?конец\n",
            "Приходи ещё!\n"
          ]
        }
      ]
    },
    {
      "cell_type": "markdown",
      "source": [
        "### Блок 3\n",
        "\n",
        "Отрабатываем умение \"отлавливать\" исключения и обрабатывать их."
      ],
      "metadata": {
        "id": "q89YkNqYbNOa"
      }
    },
    {
      "cell_type": "markdown",
      "source": [
        "*Задача 0 - Ошибка типа данных*\n",
        "\n",
        "Пользователь вводит два значения на экран.\n",
        "Если два значения не являются численными и их нельзя сложить, отловите ошибку ValueError - и произведите конкатенацию этих двух значений.\n"
      ],
      "metadata": {
        "id": "aCHiKgT6H8VJ"
      }
    },
    {
      "cell_type": "code",
      "source": [
        "a = input(\"введите любое значение №1: \")\n",
        "b = input(\"введите любое значение №2: \")\n",
        "\n",
        "try:\n",
        "  print(int(a) + int(b))\n",
        "except TypeError:\n",
        "  print(str(a) + str(b))\n",
        "except ValueError:\n",
        "    print(str(a) + str(b))\n",
        "\n",
        "\n",
        "\n"
      ],
      "metadata": {
        "colab": {
          "base_uri": "https://localhost:8080/"
        },
        "id": "fmBklF5vUPiI",
        "outputId": "d6af082c-879f-4b4d-a3eb-ccefe04b9eeb"
      },
      "execution_count": 45,
      "outputs": [
        {
          "output_type": "stream",
          "name": "stdout",
          "text": [
            "введите любое значение №1: c\n",
            "введите любое значение №2: f\n",
            "cf\n"
          ]
        }
      ]
    },
    {
      "cell_type": "markdown",
      "source": [
        "*Задача 1 - Ошибка типа данных*\n",
        "\n",
        "Рассчитайте с какой скоростью (км/час) двигался пользователь, чтобы преодолеть один километр. Для этого запросите у него время (в минутах) за которое он преодолевает расстояние в 1 км.\n",
        "Отловите всевозможные ошибки, которые могут возникнуть при выполнении данного задания.\n",
        "\n",
        "После того как значение скорости будет рассчитано или не рассчитано, запросить у пользователя нужно ли еще раз рассчитать скорость. Если нужно - повторить процедуру, описанную сверху.\n"
      ],
      "metadata": {
        "id": "vs1DX3ArNNKk"
      }
    },
    {
      "cell_type": "code",
      "source": [
        "flag = True\n",
        "while flag:\n",
        "    try:\n",
        "        time = float(input(\"Введите время (в минутах): \"))\n",
        "        if time < 0:\n",
        "            raise ValueError(\"Время не может быть отрицательным\")\n",
        "        elif time == 0:\n",
        "            raise ValueError(\"Время не может быть равно нулю\")\n",
        "        speed = 1 / (time / 60)\n",
        "        print(f\"Скорость: {speed} км/час\")\n",
        "\n",
        "    except ValueError as e:\n",
        "        print(f\"Ошибка: {e}\")\n",
        "\n",
        "    answer = input(\"Хотите рассчитать скорость еще раз? (да/нет): \")\n",
        "    if answer.lower() == \"нет\":\n",
        "      print(\"До свидания!\")\n",
        "      break"
      ],
      "metadata": {
        "colab": {
          "base_uri": "https://localhost:8080/"
        },
        "id": "JLAPlE_0MOmO",
        "outputId": "cb7e4f46-6bd6-447a-c73e-ec3be3ba161d"
      },
      "execution_count": null,
      "outputs": [
        {
          "output_type": "stream",
          "name": "stdout",
          "text": [
            "Введите время (в минутах): 12\n",
            "Скорость: 5.0 км/час\n",
            "Хотите рассчитать скорость еще раз? (да/нет): да\n",
            "Введите время (в минутах): 0\n",
            "Ошибка: Время не может быть равно нулю\n",
            "Хотите рассчитать скорость еще раз? (да/нет): да\n",
            "Введите время (в минутах): -9\n",
            "Ошибка: Время не может быть отрицательным\n",
            "Хотите рассчитать скорость еще раз? (да/нет): да\n",
            "Введите время (в минутах): иатовл\n",
            "Ошибка: could not convert string to float: 'иатовл'\n",
            "Хотите рассчитать скорость еще раз? (да/нет): да\n",
            "Введите время (в минутах): 12д\n",
            "Ошибка: could not convert string to float: '12д'\n",
            "Хотите рассчитать скорость еще раз? (да/нет): да\n",
            "Введите время (в минутах): 1/2\n",
            "Ошибка: could not convert string to float: '1/2'\n",
            "Хотите рассчитать скорость еще раз? (да/нет): нет\n",
            "До свидания!\n"
          ]
        }
      ]
    },
    {
      "cell_type": "markdown",
      "source": [
        "ДЗ:\n",
        "https://new.contest.yandex.ru/41235/statistics"
      ],
      "metadata": {
        "id": "eH1zgT5bUjf7"
      }
    },
    {
      "cell_type": "code",
      "source": [],
      "metadata": {
        "id": "wRsRSKD0QvYG"
      },
      "execution_count": null,
      "outputs": []
    }
  ]
}