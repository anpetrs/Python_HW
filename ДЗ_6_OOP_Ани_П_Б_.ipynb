{
  "cells": [
    {
      "cell_type": "markdown",
      "id": "7bfdd176",
      "metadata": {
        "id": "7bfdd176"
      },
      "source": [
        "### 1. Классы"
      ]
    },
    {
      "cell_type": "code",
      "execution_count": null,
      "id": "a71cf78c",
      "metadata": {
        "id": "a71cf78c"
      },
      "outputs": [],
      "source": [
        "class MyClass:\n",
        "    \"\"\" Docstring for MyClass. \"\"\"\n",
        "\n",
        "    GRAVITY: int = 9.81          # Переменная класса\n",
        "\n",
        "    def __init__(self, x: int):  # Магический метод __init__() инициализирует состояния инстанса (экземпляра, объекта) self\n",
        "        self.x = x               # Переменная (свойство, атрибут) инстанса self\n",
        "        self.y = None            # Переменная (свойство, атрибут) инстанса self\n",
        "\n",
        "    def foo(self) -> None:       # Метод класса\n",
        "        self.x += 1              # Обновление переменной экземпляра self\n",
        "\n",
        "    @staticmethod                # Статический метод класса -> Не передаем экземпляр self\n",
        "    def bar() -> str:\n",
        "        return \"bar\"\n",
        "\n",
        "    @classmethod                 # Класс-метод класса -> вместо инстанса self передается класс cls\n",
        "    def baz(cls) -> str:\n",
        "        return cls.__name__"
      ]
    },
    {
      "cell_type": "markdown",
      "id": "e1e15953",
      "metadata": {
        "id": "e1e15953"
      },
      "source": [
        "Напишем простой класс `Dog` с атрибутами `name` и `age` и методом `bark`, который выводит `Гав` на экран."
      ]
    },
    {
      "cell_type": "code",
      "execution_count": null,
      "id": "67be9e12",
      "metadata": {
        "id": "67be9e12"
      },
      "outputs": [],
      "source": [
        "class Dog:\n",
        "    def __init__(self, name, age):\n",
        "        self.name = name\n",
        "        self.age = age\n",
        "\n",
        "    def bark(self):\n",
        "        print(\"Гав!\")"
      ]
    },
    {
      "cell_type": "markdown",
      "id": "c67b3dd7",
      "metadata": {
        "id": "c67b3dd7"
      },
      "source": [
        "Чтобы создать объект класса, нужно вызвать класс с помощью скобок и передать необходимые аргументы:"
      ]
    },
    {
      "cell_type": "code",
      "execution_count": null,
      "id": "39d789bc",
      "metadata": {
        "id": "39d789bc"
      },
      "outputs": [],
      "source": [
        "my_dog = Dog(\"Шарик\", 3)"
      ]
    },
    {
      "cell_type": "markdown",
      "id": "a12b858d",
      "metadata": {
        "id": "a12b858d"
      },
      "source": [
        "Теперь у нас есть экземпляр класса my_dog, у которого имя \"Шарик\" и возраст 3. Мы можем обратиться к свойствам и методам объекта, используя оператор точки:"
      ]
    },
    {
      "cell_type": "code",
      "execution_count": null,
      "id": "a2eba4fa",
      "metadata": {
        "id": "a2eba4fa"
      },
      "outputs": [],
      "source": [
        "print(my_dog.name)\n",
        "my_dog.bark()\n"
      ]
    },
    {
      "cell_type": "markdown",
      "id": "0c016833",
      "metadata": {
        "id": "0c016833"
      },
      "source": [
        "### 2.Наследование"
      ]
    },
    {
      "cell_type": "code",
      "execution_count": null,
      "id": "71b466dc",
      "metadata": {
        "id": "71b466dc"
      },
      "outputs": [],
      "source": [
        "class Shape:\n",
        "    def __init__(self, color=\"red\"):\n",
        "        self.color = color\n",
        "\n",
        "    def get_color(self) -> str:\n",
        "        return self.color\n",
        "\n",
        "    def set_color(self, color) -> None:\n",
        "        self.color = color"
      ]
    },
    {
      "cell_type": "code",
      "execution_count": null,
      "id": "70f59b9e",
      "metadata": {
        "id": "70f59b9e"
      },
      "outputs": [],
      "source": [
        "class Circle(Shape):\n",
        "    PI = 3.14\n",
        "    def __init__(self, color, radius):\n",
        "        super().__init__(color)\n",
        "        self.radius = radius\n",
        "\n",
        "    def get_area(self) -> float:\n",
        "        return self.PI * self.radius ** 2"
      ]
    },
    {
      "cell_type": "code",
      "execution_count": null,
      "id": "98278289",
      "metadata": {
        "id": "98278289"
      },
      "outputs": [],
      "source": [
        "my_shape = Shape(\"red\")\n",
        "print(my_shape.get_color())"
      ]
    },
    {
      "cell_type": "code",
      "execution_count": null,
      "id": "fd3f0ee7",
      "metadata": {
        "id": "fd3f0ee7"
      },
      "outputs": [],
      "source": [
        "my_shape.set_color(\"blue\")\n",
        "print(my_shape.get_color())"
      ]
    },
    {
      "cell_type": "code",
      "execution_count": null,
      "id": "77a01614",
      "metadata": {
        "id": "77a01614"
      },
      "outputs": [],
      "source": [
        "my_circle = Circle(\"green\", 5)\n",
        "print(my_circle.get_color())\n",
        "print(my_circle.get_area())\n"
      ]
    },
    {
      "cell_type": "code",
      "execution_count": null,
      "id": "6ad3d42b",
      "metadata": {
        "id": "6ad3d42b"
      },
      "outputs": [],
      "source": [
        "# creating class for father\n",
        "class Dad:\n",
        "    def __init__(self, hair=\"brown\"):\n",
        "        print('called dad')\n",
        "        self.hair = hair\n",
        "        super().__init__()\n",
        "\n",
        "\n",
        "    def singing(self):\n",
        "        print(\"Dad sings well\")\n",
        "\n",
        "# creating a class for mother\n",
        "class Mom:\n",
        "    def __init__(self, eyes=\"green\"):\n",
        "        print('called mom')\n",
        "        self.eyes = eyes\n",
        "        super().__init__()\n",
        "\n",
        "    def coding(self):\n",
        "        print(\"Mom codes well\")\n",
        "\n",
        "# creating child class\n",
        "class Child(Dad, Mom):\n",
        "    def __init__(self):\n",
        "        super().__init__()\n",
        "\n",
        "    def play(self):\n",
        "        print(\"Kid loves to play\")\n",
        "\n",
        "# creating object of the new child class\n",
        "child = Child()\n",
        "\n",
        "# calling methods of parent classes and derived class\n",
        "child.singing()\n",
        "child.coding()\n",
        "child.play()\n",
        "child.hair, child.eyes"
      ]
    },
    {
      "cell_type": "markdown",
      "id": "64cdcb3b",
      "metadata": {
        "id": "64cdcb3b"
      },
      "source": [
        "### Пример.\n",
        "\n",
        "Покажем, как с помощью классов хранить и обрабатывать данные."
      ]
    },
    {
      "cell_type": "code",
      "execution_count": null,
      "id": "8bacdc10",
      "metadata": {
        "id": "8bacdc10"
      },
      "outputs": [],
      "source": [
        "class Book:\n",
        "    def __init__(self, title, author, year):\n",
        "        self.title = title\n",
        "        self.author = author\n",
        "        self.year = year\n",
        "        self.status = \"available\"\n",
        "\n",
        "    def take(self):\n",
        "        if self.status == \"available\":\n",
        "            self.status = \"taken\"\n",
        "            print(f\"{self.title} by {self.author} is now taken.\")\n",
        "        else:\n",
        "            print(f\"Sorry, {self.title} by {self.author} is already taken.\")\n",
        "\n",
        "    def return_book(self):\n",
        "        if self.status == \"taken\":\n",
        "            self.status = \"available\"\n",
        "            print(f\"Thank you for returning {self.title} by {self.author}.\")\n",
        "        else:\n",
        "            print(f\"{self.title} by {self.author} is not taken, cannot be returned.\")\n",
        "\n",
        "    def __str__(self):\n",
        "        return f\"{self.title} by {self.author}, {self.year}\""
      ]
    },
    {
      "cell_type": "code",
      "execution_count": null,
      "id": "60e98bbc",
      "metadata": {
        "id": "60e98bbc"
      },
      "outputs": [],
      "source": [
        "book1 = Book(\"The Lord of the Rings\", \"J.R.R. Tolkien\", 1954)\n",
        "book2 = Book(\"To Kill a Mockingbird\", \"Harper Lee\", 1960)\n",
        "\n",
        "book1.take()"
      ]
    },
    {
      "cell_type": "code",
      "execution_count": null,
      "id": "4197eee6",
      "metadata": {
        "id": "4197eee6"
      },
      "outputs": [],
      "source": [
        "book1.take()"
      ]
    },
    {
      "cell_type": "code",
      "execution_count": null,
      "id": "ec22efce",
      "metadata": {
        "id": "ec22efce"
      },
      "outputs": [],
      "source": [
        "book1.return_book()"
      ]
    },
    {
      "cell_type": "code",
      "execution_count": null,
      "id": "0877d1df",
      "metadata": {
        "id": "0877d1df"
      },
      "outputs": [],
      "source": [
        "print(book1)\n",
        "print(book2)"
      ]
    },
    {
      "cell_type": "markdown",
      "id": "814a35b3",
      "metadata": {
        "id": "814a35b3"
      },
      "source": [
        "### Задание 1.\n",
        "\n",
        "Создайте класс `Animal`, который будет иметь атрибуты `name` и метод `greet`, печатающий строку `f\"Hello, my name is {self.name}!\"`.\n",
        "\n",
        "Создайте класс `Cat` и отнаследуйте его от  `Animal`. В классе `Cat` должен быть аттрибут `breed`(порода) с дефолтным значением `None`, так же реализуйте метод `meow`, печатающий `f\"Meow, I am {self.name}. My breed is {self.breed}\"`.\n"
      ]
    },
    {
      "cell_type": "code",
      "execution_count": null,
      "id": "c9a98c1f",
      "metadata": {
        "id": "c9a98c1f"
      },
      "outputs": [],
      "source": [
        "class Animal:\n",
        "    def __init__(self, name):\n",
        "        self.name = name\n",
        "\n",
        "    def greet(self):\n",
        "        print(f\"Hello, my name is {self.name}!\")\n",
        "\n",
        "class Cat(Animal):\n",
        "    def __init__(self, name, breed=None):\n",
        "      super().__init__(name)\n",
        "      self.breed = breed\n",
        "\n",
        "    def meow(self):\n",
        "        print(f\"Meow, I am {self.name}. My breed is {self.breed}\")"
      ]
    },
    {
      "cell_type": "code",
      "execution_count": null,
      "id": "95ed73a9",
      "metadata": {
        "id": "95ed73a9",
        "colab": {
          "base_uri": "https://localhost:8080/"
        },
        "outputId": "36536c12-e4be-4b33-a924-4496806f6c13"
      },
      "outputs": [
        {
          "output_type": "stream",
          "name": "stdout",
          "text": [
            "Hello, my name is Sofa!\n",
            "Meow, I am Sofa. My breed is mixed\n"
          ]
        }
      ],
      "source": [
        "sofa = Cat(\"Sofa\", \"mixed\")\n",
        "sofa.greet()\n",
        "sofa.meow()"
      ]
    },
    {
      "cell_type": "markdown",
      "id": "096b2fe5",
      "metadata": {
        "id": "096b2fe5"
      },
      "source": [
        "### Задание 2."
      ]
    },
    {
      "cell_type": "markdown",
      "id": "4800bcb8",
      "metadata": {
        "id": "4800bcb8"
      },
      "source": [
        "Создайте класс `BankAccount`, который будет иметь свойства\n",
        "- `balance` (баланс на счете)\n",
        "- `account_holder` (имя владельца)\n",
        "- `account_number` (номер счета),\n",
        "\n",
        "а также методы  \n",
        "- внесения средств `deposit()` принимает на вход сумму, которая вносится на счет, обновляет баланс и печатает сообщение о том, сколько денег внесено.\n",
        "- снятия денег со счета `witdraw()` принимает на вход сумму, которую нужно списать со счет и списывает ее в случае, если на счету достаточно денег. И выводит сообщение об успешном снятии. Если денег не хватает, то он должен вывести сообщение о нехватке средств.\n",
        "- `get_balance()` выводит сообщение о текущем балансе.\n",
        "- Также переопределите магический метод `__str__` так, чтобы он возвращал строку, содержащую имя владельца и номер счета."
      ]
    },
    {
      "cell_type": "code",
      "execution_count": null,
      "id": "a082030c",
      "metadata": {
        "id": "a082030c"
      },
      "outputs": [],
      "source": [
        "class BankAccount:\n",
        "    def __init__(self, account_number, account_holder, balance=0):\n",
        "      self.account_number = account_number\n",
        "      self.account_holder = account_holder\n",
        "      self.balance = balance\n",
        "\n",
        "    def deposit(self, amount):\n",
        "      self.balance += amount\n",
        "      print(f\"внесено {amount} у.е.\")\n",
        "\n",
        "    def withdraw(self, amount):\n",
        "      if amount <= self.balance:\n",
        "        self.balance -= amount\n",
        "        print(f\"снято {amount} у.е.\")\n",
        "      else:\n",
        "        print('недостаточно денег на счёте')\n",
        "\n",
        "    def get_balance(self):\n",
        "      print(f\"на счету {self.balance} у.е.\")\n",
        "\n",
        "    def __str__(self):\n",
        "      print(f\"{self.account_holder}, {self.account_number}\")"
      ]
    },
    {
      "cell_type": "markdown",
      "id": "5988d9a2",
      "metadata": {
        "id": "5988d9a2"
      },
      "source": [
        "Для проверки создайте счет и проделайте операции по внесению и снятию денег со счета:"
      ]
    },
    {
      "cell_type": "code",
      "execution_count": null,
      "id": "f1400fa5",
      "metadata": {
        "id": "f1400fa5",
        "colab": {
          "base_uri": "https://localhost:8080/"
        },
        "outputId": "c9c5b0a2-a983-498f-cc41-17235ba9c4ab"
      },
      "outputs": [
        {
          "output_type": "stream",
          "name": "stdout",
          "text": [
            "внесено 1000 у.е.\n",
            "на счету 1000 у.е.\n",
            "снято 500 у.е.\n",
            "на счету 500 у.е.\n",
            "недостаточно денег на счёте\n"
          ]
        }
      ],
      "source": [
        "account = BankAccount(\"Ivan Ivanov\", \"123456\")\n",
        "account.deposit(1000)  # выведет \"Deposited 1000.\"\n",
        "account.get_balance()  # выведет \"Current balance is 1000\"\n",
        "account.withdraw(500)  # выведет \"Withdrawn 500\"\n",
        "account.get_balance()  # выведет \"Current balance is 500\n",
        "account.withdraw(700)  # выведет \"Insufficient funds!\""
      ]
    },
    {
      "cell_type": "code",
      "execution_count": null,
      "id": "02373780",
      "metadata": {
        "id": "02373780",
        "colab": {
          "base_uri": "https://localhost:8080/"
        },
        "outputId": "106abf5a-8a40-458b-8a2d-49da0ca89f4f"
      },
      "outputs": [
        {
          "output_type": "stream",
          "name": "stdout",
          "text": [
            "<class '__main__.BankAccount'>\n"
          ]
        }
      ],
      "source": [
        "print(BankAccount)"
      ]
    },
    {
      "cell_type": "markdown",
      "id": "c09c8c85",
      "metadata": {
        "id": "c09c8c85"
      },
      "source": [
        "### Задание 3."
      ]
    },
    {
      "cell_type": "markdown",
      "id": "60c5c8af",
      "metadata": {
        "id": "60c5c8af"
      },
      "source": [
        "Создайте класс с названием \"Person\" (Человек), который имеет следующие атрибуты:\n",
        "\n",
        "- \"name\" (имя): строка, которая хранит имя человека\n",
        "- \"age\" (возраст): целое число, которое хранит возраст человека\n",
        "- \"hobbies\" (хобби): список, который хранит хобби человека\n",
        "\n",
        "Класс должен иметь следующие методы:\n",
        "\n",
        "- \"add_hobby(hobby)\" (добавить хобби): добавляет новое хобби в список хобби человека\n",
        "- \"remove_hobby(hobby)\" (удалить хобби): удаляет хобби из списка хобби человека\n",
        "- \"introduce()\" (представиться): выводит краткое представление о человеке, включая его имя, возраст и хобби."
      ]
    },
    {
      "cell_type": "code",
      "execution_count": null,
      "id": "8d9e6010",
      "metadata": {
        "id": "8d9e6010"
      },
      "outputs": [],
      "source": [
        "class Person:\n",
        "    def __init__(self, name, age, hobbies=None):\n",
        "      self.name = name\n",
        "      self.age = age\n",
        "      self.hobbies = []\n",
        "\n",
        "    def add_hobby(self, hobby):\n",
        "      self.hobbies.append(hobby)\n",
        "\n",
        "    def remove_hobby(self, hobby):\n",
        "      if hobby in self.hobbies:\n",
        "        self.hobbies.remove(hobby)\n",
        "\n",
        "    def introduce(self):\n",
        "      print(f\"My name is {self.name}, I am {self.age} years old.\")\n",
        "      if self.hobbies:\n",
        "        self.hobbies = ' '.join(map(str, self.hobbies))\n",
        "        print(f\"I like {self.hobbies}.\")\n",
        "      else:\n",
        "        print(f\"I have no hobbies.\")"
      ]
    },
    {
      "cell_type": "code",
      "execution_count": null,
      "id": "14db6011",
      "metadata": {
        "id": "14db6011",
        "colab": {
          "base_uri": "https://localhost:8080/"
        },
        "outputId": "90dbc291-444d-4b92-fd2f-82090a1e3904"
      },
      "outputs": [
        {
          "output_type": "stream",
          "name": "stdout",
          "text": [
            "My name is Sofa, I am 9 years old.\n",
            "I like sleeping.\n"
          ]
        }
      ],
      "source": [
        "person = Person(\"Sofa\", 9)\n",
        "person.add_hobby(\"sleeping\")\n",
        "person.introduce()"
      ]
    },
    {
      "cell_type": "markdown",
      "id": "9a7e106c",
      "metadata": {
        "id": "9a7e106c"
      },
      "source": [
        "### Задание 4."
      ]
    },
    {
      "cell_type": "markdown",
      "id": "f71870d3",
      "metadata": {
        "id": "f71870d3"
      },
      "source": [
        "Представьте, что Вы работаете над приложением, которое должно помочь людям следить за своим здоровьем. Вам нужно создать класс `Person`, который будет представлять пользователя вашего приложения. Класс должен иметь свойства `name` (имя), `age` (возраст), `height` (рост), `weight` (вес) и методы `get_bmi()` (возвращает индекс массы тела пользователя) и `recommend_diet()` (возвращает рекомендации по диете, основанные на индексе массы тела пользователя).\n",
        "\n",
        "\n",
        "    Индекс массы тела рассчитывается по формуле: $bmi = weight / height^2 $   (кг)/ (м2)\n",
        "\n",
        "    Границы для рекомендации по питанию:\n",
        "    bmi < 18.5 - недостаток веса, 18.5 <= bmi <= 24.9 - норма, 25.0 <= bmi <= 29.9 - избыток веса, больше - угроза для здоровья, рекомендация обратиться к специалисту.\n"
      ]
    },
    {
      "cell_type": "code",
      "execution_count": null,
      "id": "e5a6438f",
      "metadata": {
        "id": "e5a6438f"
      },
      "outputs": [],
      "source": [
        "class Person:\n",
        "    def __init__(self, name, age, height, weight):\n",
        "      self.name = name\n",
        "      self.age = age\n",
        "      self.height = height\n",
        "      self.weight = weight\n",
        "\n",
        "    def get_bmi(self):\n",
        "      bmi = self.weight / self.height ** 2\n",
        "      return bmi\n",
        "\n",
        "    def recommend_diet(self):\n",
        "      bmi = self.get_bmi()\n",
        "      if bmi < 18.5:\n",
        "        print(\"недостаток веса\")\n",
        "      elif bmi >= 18.5 and bmi <= 24.9:\n",
        "        print(\"ваш вес в норме\")\n",
        "      elif bmi >= 25.0 and bmi <= 29.9:\n",
        "        print(\"избыток веса\")\n",
        "      else:\n",
        "        print(\"угроза для здоровья, рекомендация обратиться к специалисту\")"
      ]
    },
    {
      "cell_type": "code",
      "source": [
        "person = Person(\"Ани\", 31, 1.62, 60)\n",
        "bmi = person.get_bmi()\n",
        "Diet_recommendation = person.recommend_diet()"
      ],
      "metadata": {
        "colab": {
          "base_uri": "https://localhost:8080/"
        },
        "id": "XxKTFVhK9Olj",
        "outputId": "739a8692-1486-4214-b88a-81249fa69663"
      },
      "id": "XxKTFVhK9Olj",
      "execution_count": null,
      "outputs": [
        {
          "output_type": "stream",
          "name": "stdout",
          "text": [
            "ваш вес в норме\n"
          ]
        }
      ]
    },
    {
      "cell_type": "markdown",
      "id": "b6691955",
      "metadata": {
        "id": "b6691955"
      },
      "source": [
        "### Задание 5."
      ]
    },
    {
      "cell_type": "markdown",
      "id": "04de8f71",
      "metadata": {
        "id": "04de8f71"
      },
      "source": [
        "Создать классы для вычисления геометрических фигур.\n",
        "\n",
        "- Создать базовый класс `Shape`.\n",
        "- Класс `Shape` должен содержать методы `get_area()` и `get_perimeter()`, которые должны возвращать площадь и периметр фигуры соответственно.\n",
        "- Создать классы `Rectangle` и `Circle`, которые наследуются от Shape.\n",
        "- Класс `Rectangle` должен иметь следующие атрибуты:\n",
        "    - `width` (ширина)\n",
        "    - `height` (высота)\n",
        "- Класс `Circle` должен иметь следующие атрибуты:\n",
        "    - `radius` (радиус)\n",
        "- Класс `Rectangle` должен переопределять методы `get_area()` и `get_perimeter()` для вычисления площади и периметра прямоугольника соответственно.\n",
        "- Класс `Circle` должен переопределять методы `get_area()` и `get_perimeter()` для вычисления площади и длины окружности соответственно.\n"
      ]
    },
    {
      "cell_type": "code",
      "execution_count": 12,
      "id": "12d76ded",
      "metadata": {
        "id": "12d76ded"
      },
      "outputs": [],
      "source": [
        "import math\n",
        "\n",
        "class Shape:\n",
        "  def get_area(self):\n",
        "    pass\n",
        "\n",
        "  def get_perimeter(self):\n",
        "    pass\n",
        "\n",
        "class Rectangle(Shape):\n",
        "  def __init__(self, width, height):\n",
        "    self.width = width\n",
        "    self.height = height\n",
        "\n",
        "  def get_area(self):\n",
        "    return self.width * self.height\n",
        "\n",
        "  def get_perimeter(self):\n",
        "    return 2 * (self.width + self.height)\n",
        "\n",
        "class Circle(Shape):\n",
        "  def __init__(self, radius):\n",
        "    self.radius = radius\n",
        "\n",
        "  def get_area(self):\n",
        "    return math.pi * self.radius**2\n",
        "\n",
        "  def get_perimeter(self):\n",
        "    return 2 * math.pi * self.radius"
      ]
    },
    {
      "cell_type": "code",
      "source": [
        "r = Rectangle(8, 9)\n",
        "print(f\"площаь прямоугольника = {r.get_area()}\")\n",
        "print(f\"периметр прямоугольника = {r.get_perimeter()}\")\n",
        "\n",
        "c = Circle(8)\n",
        "print(f\"площаь окружности = {c.get_area():.2f}\")\n",
        "print(f\"периметр окружности = {c.get_perimeter():.2f}\")"
      ],
      "metadata": {
        "colab": {
          "base_uri": "https://localhost:8080/"
        },
        "id": "3TC0f1momd4n",
        "outputId": "420fed62-1223-46a4-cbe7-33e461b38c96"
      },
      "id": "3TC0f1momd4n",
      "execution_count": 14,
      "outputs": [
        {
          "output_type": "stream",
          "name": "stdout",
          "text": [
            "площаь прямоугольника = 72\n",
            "периметр прямоугольника = 34\n",
            "площаь окружности = 201.06\n",
            "периметр окружности = 50.27\n"
          ]
        }
      ]
    },
    {
      "cell_type": "markdown",
      "id": "6dfaf74f",
      "metadata": {
        "id": "6dfaf74f"
      },
      "source": [
        "## Дополнительная практика (Задания со звездочкой)"
      ]
    },
    {
      "cell_type": "markdown",
      "id": "4fde25b0",
      "metadata": {
        "id": "4fde25b0"
      },
      "source": [
        "### Задание 6"
      ]
    },
    {
      "cell_type": "markdown",
      "id": "79c7b945",
      "metadata": {
        "id": "79c7b945"
      },
      "source": [
        "Создать классы для работы с телефонной книгой.\n",
        "\n",
        "Требования:\n",
        "\n",
        "- Создать класс `PhoneBook`.\n",
        "- Класс `PhoneBook` должен содержать методы:\n",
        "    - `add_contact` добавления новой записи в книгу\n",
        "    - `remove_contact` удаления записи из книги\n",
        "    - `find_contact` поиска записи по имени, вывода всех записей в книге.\n",
        "    - `show_all_contacts` вывода всех сохраненных контактов в случайном порядке.\n",
        "    - `show_sorted_contacts` вывода всех сохраненных контактов в алфавитном порядке по имени (Нормально, если будет работать дольше).\n",
        "\n",
        "- Каждая запись `Contact` в книге должна содержать следующие атрибуты:\n",
        "    - `name` (имя контакта)\n",
        "    - `phone_number` (номер телефона контакта)\n",
        "    - `email` (адрес электронной почты контакта)\n",
        "    \n",
        "Методы класса PhoneBook должны позволять работать с записями в книге как с объектами класса. Подумайте, в какой структуре данных эффективнее хранить контакты в адресной книге.\n",
        "\n",
        "Создайте несколько контактов и протестируйте работу методов PhoneBook"
      ]
    },
    {
      "cell_type": "code",
      "execution_count": 7,
      "id": "b4add320",
      "metadata": {
        "id": "b4add320"
      },
      "outputs": [],
      "source": [
        "class Contact:\n",
        "  def __init__(self, name, phone_number, email):\n",
        "    self.name = name\n",
        "    self.phone_number = phone_number\n",
        "    self.email = email\n",
        "\n",
        "class PhoneBook:\n",
        "  def __init__(self):\n",
        "    self.contacts = []\n",
        "\n",
        "  def add_contact(self, name, phone_number, email):\n",
        "    contact = Contact(name, phone_number, email)\n",
        "    self.contacts.append(contact)\n",
        "\n",
        "  def remove_contact (self, name):\n",
        "    for contact in self.contacts:\n",
        "      if contact.name == name:\n",
        "        self.contacts.remove(contact)\n",
        "        break\n",
        "\n",
        "  def find_contact(self, name):\n",
        "    Found_contacts = []\n",
        "    for contact in self.contacts:\n",
        "      if contact.name == name:\n",
        "        Found_contacts.append(contact)\n",
        "      return Found_contacts\n",
        "\n",
        "  def show_all_contacts(self):\n",
        "    for contact in self.contacts:\n",
        "      print(f\"Имя: {contact.name}, Телефон: {contact.phone_number}, Электронная почта: {contact.email}\")\n",
        "\n",
        "  def show_sorted_contacts(self):\n",
        "    sorted_contacts = sorted(self.contacts, key=lambda contact: contact.name)\n",
        "    for contact in sorted_contacts:\n",
        "        print(f\"Имя: {contact.name}, Телефон: {contact.phone_number}, Электронная почта: {contact.email}\")"
      ]
    },
    {
      "cell_type": "code",
      "source": [
        "p = PhoneBook()\n",
        "p.add_contact(\"коша Софа\", \"+34798732\", \"mew@m.com\")\n",
        "p.show_sorted_contacts()"
      ],
      "metadata": {
        "colab": {
          "base_uri": "https://localhost:8080/"
        },
        "id": "MSEVZGYbr5Ra",
        "outputId": "c7de4d7e-e32b-4122-dcbe-c66e8d32bbdd"
      },
      "id": "MSEVZGYbr5Ra",
      "execution_count": 11,
      "outputs": [
        {
          "output_type": "stream",
          "name": "stdout",
          "text": [
            "Имя: коша Софа, Телефон: +34798732, Электронная почта: mew@m.com\n"
          ]
        }
      ]
    },
    {
      "cell_type": "markdown",
      "id": "145a3e54",
      "metadata": {
        "id": "145a3e54"
      },
      "source": [
        "### Задание 7"
      ]
    },
    {
      "cell_type": "markdown",
      "id": "10335dd7",
      "metadata": {
        "id": "10335dd7"
      },
      "source": [
        "Реализуйте класс, реализующий комплексные числа `Complex` с аттрибутами `real`, `imag`. В классе должны быть реализованы методы арифметики комплексных чисел:\n",
        "`__add__`, `__sub__`, `__mul__`, `__div__`, `__abs__`, `__eq__`, так же реализуйте методы `__str__`, `__repr__`"
      ]
    },
    {
      "cell_type": "code",
      "execution_count": 12,
      "id": "185cc810",
      "metadata": {
        "id": "185cc810"
      },
      "outputs": [],
      "source": [
        "import math\n",
        "\n",
        "class Complex:\n",
        "    def __init__(self, real, imag):\n",
        "        self.real = real\n",
        "        self.imag = imag\n",
        "\n",
        "    def __add__(self, other):\n",
        "        real_part = self.real + other.real\n",
        "        imag_part = self.imag + other.imag\n",
        "        return Complex(real_part, imag_part)\n",
        "\n",
        "    def __sub__(self, other):\n",
        "        real_part = self.real - other.real\n",
        "        imag_part = self.imag - other.imag\n",
        "        return Complex(real_part, imag_part)\n",
        "\n",
        "    def __mul__(self, other):\n",
        "        real_part = self.real * other.real - self.imag * other.imag\n",
        "        imag_part = self.real * other.imag + self.imag * other.real\n",
        "        return Complex(real_part, imag_part)\n",
        "\n",
        "    def __truediv__(self, other):\n",
        "        denominator = other.real**2 + other.imag**2\n",
        "        real_part = (self.real * other.real + self.imag * other.imag) / denominator\n",
        "        imag_part = (self.imag * other.real - self.real * other.imag) / denominator\n",
        "        return Complex(real_part, imag_part)\n",
        "\n",
        "    def __abs__(self):\n",
        "        return math.sqrt(self.real**2 + self.imag**2)\n",
        "\n",
        "    def __eq__(self, other):\n",
        "        return self.real == other.real and self.imag == other.imag\n",
        "\n",
        "    def __str__(self):\n",
        "        return f\"{self.real} + {self.imag}i\"\n",
        "\n",
        "    def __repr__(self):\n",
        "        return f\"Complex({self.real}, {self.imag})\"\n",
        "\n",
        "\n",
        "a = Complex(3, 4)\n",
        "b = Complex(1, 2)\n",
        "c = a + b\n",
        "d = a - b\n",
        "e = a * b\n",
        "f = a / b"
      ]
    },
    {
      "cell_type": "code",
      "source": [
        "print(\"c =\", c)\n",
        "print(\"d =\", d)\n",
        "print(\"e =\", e)\n",
        "print(\"f =\", f)\n",
        "print(\"abs(a) = \", abs(a))\n",
        "print(\"a == b ->\", a == b)"
      ],
      "metadata": {
        "colab": {
          "base_uri": "https://localhost:8080/"
        },
        "id": "mGjH36H7dP4b",
        "outputId": "43704600-610c-49d1-c079-2528c398f598"
      },
      "id": "mGjH36H7dP4b",
      "execution_count": 19,
      "outputs": [
        {
          "output_type": "stream",
          "name": "stdout",
          "text": [
            "c = 4 + 6i\n",
            "d = 2 + 2i\n",
            "e = -5 + 10i\n",
            "f = 2.2 + -0.4i\n",
            "abs(a) =  5.0\n",
            "a == b -> False\n"
          ]
        }
      ]
    },
    {
      "cell_type": "markdown",
      "id": "0e044a09",
      "metadata": {
        "id": "0e044a09"
      },
      "source": [
        "### Задание 8"
      ]
    },
    {
      "cell_type": "markdown",
      "id": "aa62e18f",
      "metadata": {
        "id": "aa62e18f"
      },
      "source": [
        "Вам нужно реализовать класс [`LifeGame`](https://ru.wikipedia.org/wiki/%D0%98%D0%B3%D1%80%D0%B0_%C2%AB%D0%96%D0%B8%D0%B7%D0%BD%D1%8C%C2%BB).\n",
        "* Инициализируется начальным состоянием океана - прямоугольным списком списков (формируя тем самым матрицу), каждый элемент которого это число.\n",
        "0 - если ячейка пустая, 1 - если в ячейке живая клетка\n",
        "* Содержит метод `get_next_generation`, который обновляет состояние океана и возвращает его содержимое\n",
        "* Переопределенный `__str__` и  `__repr__` для вывода текущего состояния в виде красивой строки (Для превращения списка списков в строку используйте строковый метод `.join()` (объединение через пробел - \" \".join(list1)) и с символом переноса строки \"\\n\".join(list2))\n",
        "\n",
        "Игра жизнь устроена по следующим правилам:\n",
        "- изменение всех ячеек океана происходит одновременно, учитывая только состояния ячеек в предыдущий момент времени\n",
        "- в пустой (мёртвой) клетке, с которой соседствуют три живые клетки, зарождается жизнь;\n",
        "- если у живой клетки есть две или три живые соседки, то эта клетка продолжает жить; в противном случае (если живых соседей меньше двух или больше трёх) клетка умирает («от одиночества» или «от перенаселённости»).\n",
        "Игра прекращается, если\n",
        "- на поле не останется ни одной «живой» клетки;\n",
        "- конфигурация на очередном шаге в точности (без сдвигов и поворотов) повторит себя же на одном из более ранних шагов (складывается периодическая конфигурация)\n",
        "- при очередном шаге ни одна из клеток не меняет своего состояния (частный случай предыдущего правила, складывается стабильная конфигурация)\n"
      ]
    },
    {
      "cell_type": "code",
      "execution_count": 20,
      "id": "99b85a33",
      "metadata": {
        "id": "99b85a33"
      },
      "outputs": [],
      "source": [
        "class LifeGame:\n",
        "    def __init__(self, initial_state):\n",
        "        self.current_generation = initial_state\n",
        "        self.rows = len(initial_state)\n",
        "        self.cols = len(initial_state[0])\n",
        "\n",
        "    def get_next_generation(self):\n",
        "        next_generation = [[0 for _ in range(self.cols)] for _ in range(self.rows)]\n",
        "\n",
        "        for i in range(self.rows):\n",
        "            for j in range(self.cols):\n",
        "                neighbors = self.count_neighbors(i, j)\n",
        "\n",
        "                if self.current_generation[i][j] == 1:\n",
        "                    if neighbors == 2 or neighbors == 3:\n",
        "                        next_generation[i][j] = 1\n",
        "                else:\n",
        "                    if neighbors == 3:\n",
        "                        next_generation[i][j] = 1\n",
        "\n",
        "        self.current_generation = next_generation\n",
        "        return self.current_generation\n",
        "\n",
        "    def count_neighbors(self, row, col):\n",
        "        neighbors = 0\n",
        "        directions = [(1, 0), (-1, 0), (0, 1), (0, -1), (1, 1), (-1, -1), (1, -1), (-1, 1)]\n",
        "\n",
        "        for dr, dc in directions:\n",
        "            new_row, new_col = row + dr, col + dc\n",
        "            if 0 <= new_row < self.rows and 0 <= new_col < self.cols and self.current_generation[new_row][new_col] == 1:\n",
        "                neighbors += 1\n",
        "\n",
        "        return neighbors\n",
        "\n",
        "    def __str__(self):\n",
        "        return \"\\n\".join([\" \".join(map(str, row)) for row in self.current_generation])\n",
        "\n",
        "    def __repr__(self):\n",
        "        return repr(self.current_generation)\n",
        "\n"
      ]
    },
    {
      "cell_type": "code",
      "source": [
        "initial_state = [\n",
        "    [0, 1, 0, 0, 0],\n",
        "    [0, 0, 1, 0, 0],\n",
        "    [1, 1, 1, 0, 0],\n",
        "    [0, 0, 0, 0, 0],\n",
        "    [0, 0, 0, 0, 0]\n",
        "]\n",
        "\n",
        "game = LifeGame(initial_state)\n",
        "print(\"Generation 1:\")\n",
        "print(game)\n",
        "for generation in range(2, 6):\n",
        "    game.get_next_generation()\n",
        "    print(f\"Generation {generation}:\")\n",
        "    print(game)"
      ],
      "metadata": {
        "colab": {
          "base_uri": "https://localhost:8080/"
        },
        "id": "QrSco2sNeyIe",
        "outputId": "43e5a747-598b-4f45-d380-b912c2983c61"
      },
      "id": "QrSco2sNeyIe",
      "execution_count": 21,
      "outputs": [
        {
          "output_type": "stream",
          "name": "stdout",
          "text": [
            "Generation 1:\n",
            "0 1 0 0 0\n",
            "0 0 1 0 0\n",
            "1 1 1 0 0\n",
            "0 0 0 0 0\n",
            "0 0 0 0 0\n",
            "Generation 2:\n",
            "0 0 0 0 0\n",
            "1 0 1 0 0\n",
            "0 1 1 0 0\n",
            "0 1 0 0 0\n",
            "0 0 0 0 0\n",
            "Generation 3:\n",
            "0 0 0 0 0\n",
            "0 0 1 0 0\n",
            "1 0 1 0 0\n",
            "0 1 1 0 0\n",
            "0 0 0 0 0\n",
            "Generation 4:\n",
            "0 0 0 0 0\n",
            "0 1 0 0 0\n",
            "0 0 1 1 0\n",
            "0 1 1 0 0\n",
            "0 0 0 0 0\n",
            "Generation 5:\n",
            "0 0 0 0 0\n",
            "0 0 1 0 0\n",
            "0 0 0 1 0\n",
            "0 1 1 1 0\n",
            "0 0 0 0 0\n"
          ]
        }
      ]
    }
  ],
  "metadata": {
    "kernelspec": {
      "display_name": "Python 3 (ipykernel)",
      "language": "python",
      "name": "python3"
    },
    "language_info": {
      "codemirror_mode": {
        "name": "ipython",
        "version": 3
      },
      "file_extension": ".py",
      "mimetype": "text/x-python",
      "name": "python",
      "nbconvert_exporter": "python",
      "pygments_lexer": "ipython3",
      "version": "3.10.9"
    },
    "colab": {
      "provenance": []
    }
  },
  "nbformat": 4,
  "nbformat_minor": 5
}